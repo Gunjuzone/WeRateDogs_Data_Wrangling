{
 "cells": [
  {
   "cell_type": "markdown",
   "id": "6f92fa3b",
   "metadata": {},
   "source": [
    "# WeRateDog Data Wrangling Project\n"
   ]
  },
  {
   "cell_type": "markdown",
   "id": "a4cc406a",
   "metadata": {},
   "source": [
    "### Introduction\n",
    "This  is a fatawrangling project of WeRateDogs twitter user. This a twitter account that use humorous saying to rate people's dogs. They have an interesting way of rating dogs because all of their ratings are avove 10. I will be performing data wrangling on the twgitter user.\n"
   ]
  },
  {
   "cell_type": "markdown",
   "id": "9d0ef6c9",
   "metadata": {},
   "source": [
    "#### Importing Useful libraries"
   ]
  },
  {
   "cell_type": "code",
   "execution_count": 1015,
   "id": "d7a56574",
   "metadata": {},
   "outputs": [],
   "source": [
    "#Import the useful libraries for project environment\n",
    "\n",
    "import pandas as pd\n",
    "import numpy as np\n",
    "import matplotlib.pyplot as plt\n",
    "import seaborn as sns\n",
    "import requests\n",
    "import json\n",
    "import time\n",
    "from functools import reduce"
   ]
  },
  {
   "cell_type": "markdown",
   "id": "7d960db7",
   "metadata": {},
   "source": [
    "# 1 - Gather Data"
   ]
  },
  {
   "cell_type": "markdown",
   "id": "62722a24",
   "metadata": {},
   "source": [
    "#### Loading Twitter Archive Data"
   ]
  },
  {
   "cell_type": "code",
   "execution_count": 1016,
   "id": "24cdc586",
   "metadata": {},
   "outputs": [
    {
     "name": "stdout",
     "output_type": "stream",
     "text": [
      "<class 'pandas.core.frame.DataFrame'>\n",
      "RangeIndex: 2356 entries, 0 to 2355\n",
      "Data columns (total 17 columns):\n",
      " #   Column                      Non-Null Count  Dtype  \n",
      "---  ------                      --------------  -----  \n",
      " 0   tweet_id                    2356 non-null   int64  \n",
      " 1   in_reply_to_status_id       78 non-null     float64\n",
      " 2   in_reply_to_user_id         78 non-null     float64\n",
      " 3   timestamp                   2356 non-null   object \n",
      " 4   source                      2356 non-null   object \n",
      " 5   text                        2356 non-null   object \n",
      " 6   retweeted_status_id         181 non-null    float64\n",
      " 7   retweeted_status_user_id    181 non-null    float64\n",
      " 8   retweeted_status_timestamp  181 non-null    object \n",
      " 9   expanded_urls               2297 non-null   object \n",
      " 10  rating_numerator            2356 non-null   int64  \n",
      " 11  rating_denominator          2356 non-null   int64  \n",
      " 12  name                        2356 non-null   object \n",
      " 13  doggo                       2356 non-null   object \n",
      " 14  floofer                     2356 non-null   object \n",
      " 15  pupper                      2356 non-null   object \n",
      " 16  puppo                       2356 non-null   object \n",
      "dtypes: float64(4), int64(3), object(10)\n",
      "memory usage: 313.0+ KB\n"
     ]
    }
   ],
   "source": [
    "# Load WeRateDogs Twitter archive \n",
    "\n",
    "twitter_archive = pd.read_csv('twitter-archive-enhanced.csv')\n",
    "twitter_archive.info()"
   ]
  },
  {
   "cell_type": "markdown",
   "id": "0ffed550",
   "metadata": {},
   "source": [
    "#### Downloading tweet image according to neural network"
   ]
  },
  {
   "cell_type": "code",
   "execution_count": 1017,
   "id": "3ecfd79f",
   "metadata": {},
   "outputs": [],
   "source": [
    "# Download The tweet image predictions programatically\n",
    "\n",
    "url = 'https://d17h27t6h515a5.cloudfront.net/topher/2017/August/599fd2ad_image-predictions/image-predictions.tsv'\n",
    "\n",
    "response = requests.get(url)\n",
    "\n",
    "#Save the url to a tsv file\n",
    "\n",
    "with open ('image-predictions.tsv', mode = 'wb') as f:\n",
    "    f.write(response.content)\n",
    "\n",
    "#Load the response to dataframe \n",
    "\n",
    "image_pred = pd.read_csv('image-predictions.tsv', sep = '\\t')"
   ]
  },
  {
   "cell_type": "markdown",
   "id": "8072d12d",
   "metadata": {},
   "source": [
    "#### Gather additional data from json file"
   ]
  },
  {
   "cell_type": "code",
   "execution_count": 1018,
   "id": "fcf183c2",
   "metadata": {},
   "outputs": [
    {
     "name": "stdout",
     "output_type": "stream",
     "text": [
      "1: 892420643555336193\n"
     ]
    },
    {
     "ename": "AttributeError",
     "evalue": "module 'tweepy' has no attribute 'TweepError'",
     "output_type": "error",
     "traceback": [
      "\u001b[1;31m---------------------------------------------------------------------------\u001b[0m",
      "\u001b[1;31mUnauthorized\u001b[0m                              Traceback (most recent call last)",
      "Input \u001b[1;32mIn [1018]\u001b[0m, in \u001b[0;36m<cell line: 26>\u001b[1;34m()\u001b[0m\n\u001b[0;32m     31\u001b[0m \u001b[38;5;28;01mtry\u001b[39;00m:\n\u001b[1;32m---> 32\u001b[0m     tweet \u001b[38;5;241m=\u001b[39m \u001b[43mapi\u001b[49m\u001b[38;5;241;43m.\u001b[39;49m\u001b[43mget_status\u001b[49m\u001b[43m(\u001b[49m\u001b[43mtweet_id\u001b[49m\u001b[43m,\u001b[49m\u001b[43m \u001b[49m\u001b[43mtweet_mode\u001b[49m\u001b[38;5;241;43m=\u001b[39;49m\u001b[38;5;124;43m'\u001b[39;49m\u001b[38;5;124;43mextended\u001b[39;49m\u001b[38;5;124;43m'\u001b[39;49m\u001b[43m)\u001b[49m\n\u001b[0;32m     33\u001b[0m     \u001b[38;5;28mprint\u001b[39m(\u001b[38;5;124m\"\u001b[39m\u001b[38;5;124mSuccess\u001b[39m\u001b[38;5;124m\"\u001b[39m)\n",
      "File \u001b[1;32m~\\Anaconda3\\lib\\site-packages\\tweepy\\api.py:46\u001b[0m, in \u001b[0;36mpayload.<locals>.decorator.<locals>.wrapper\u001b[1;34m(*args, **kwargs)\u001b[0m\n\u001b[0;32m     45\u001b[0m kwargs[\u001b[38;5;124m'\u001b[39m\u001b[38;5;124mpayload_type\u001b[39m\u001b[38;5;124m'\u001b[39m] \u001b[38;5;241m=\u001b[39m payload_type\n\u001b[1;32m---> 46\u001b[0m \u001b[38;5;28;01mreturn\u001b[39;00m method(\u001b[38;5;241m*\u001b[39margs, \u001b[38;5;241m*\u001b[39m\u001b[38;5;241m*\u001b[39mkwargs)\n",
      "File \u001b[1;32m~\\Anaconda3\\lib\\site-packages\\tweepy\\api.py:896\u001b[0m, in \u001b[0;36mAPI.get_status\u001b[1;34m(self, id, **kwargs)\u001b[0m\n\u001b[0;32m    865\u001b[0m \u001b[38;5;124;03m\"\"\"get_status(id, *, trim_user, include_my_retweet, include_entities, \\\u001b[39;00m\n\u001b[0;32m    866\u001b[0m \u001b[38;5;124;03m              include_ext_alt_text, include_card_uri)\u001b[39;00m\n\u001b[0;32m    867\u001b[0m \n\u001b[1;32m   (...)\u001b[0m\n\u001b[0;32m    894\u001b[0m \u001b[38;5;124;03mhttps://developer.twitter.com/en/docs/twitter-api/v1/tweets/post-and-engage/api-reference/get-statuses-show-id\u001b[39;00m\n\u001b[0;32m    895\u001b[0m \u001b[38;5;124;03m\"\"\"\u001b[39;00m\n\u001b[1;32m--> 896\u001b[0m \u001b[38;5;28;01mreturn\u001b[39;00m \u001b[38;5;28mself\u001b[39m\u001b[38;5;241m.\u001b[39mrequest(\n\u001b[0;32m    897\u001b[0m     \u001b[38;5;124m'\u001b[39m\u001b[38;5;124mGET\u001b[39m\u001b[38;5;124m'\u001b[39m, \u001b[38;5;124m'\u001b[39m\u001b[38;5;124mstatuses/show\u001b[39m\u001b[38;5;124m'\u001b[39m, endpoint_parameters\u001b[38;5;241m=\u001b[39m(\n\u001b[0;32m    898\u001b[0m         \u001b[38;5;124m'\u001b[39m\u001b[38;5;124mid\u001b[39m\u001b[38;5;124m'\u001b[39m, \u001b[38;5;124m'\u001b[39m\u001b[38;5;124mtrim_user\u001b[39m\u001b[38;5;124m'\u001b[39m, \u001b[38;5;124m'\u001b[39m\u001b[38;5;124minclude_my_retweet\u001b[39m\u001b[38;5;124m'\u001b[39m, \u001b[38;5;124m'\u001b[39m\u001b[38;5;124minclude_entities\u001b[39m\u001b[38;5;124m'\u001b[39m,\n\u001b[0;32m    899\u001b[0m         \u001b[38;5;124m'\u001b[39m\u001b[38;5;124minclude_ext_alt_text\u001b[39m\u001b[38;5;124m'\u001b[39m, \u001b[38;5;124m'\u001b[39m\u001b[38;5;124minclude_card_uri\u001b[39m\u001b[38;5;124m'\u001b[39m\n\u001b[0;32m    900\u001b[0m     ), \u001b[38;5;28mid\u001b[39m\u001b[38;5;241m=\u001b[39m\u001b[38;5;28mid\u001b[39m, \u001b[38;5;241m*\u001b[39m\u001b[38;5;241m*\u001b[39mkwargs\n\u001b[0;32m    901\u001b[0m )\n",
      "File \u001b[1;32m~\\Anaconda3\\lib\\site-packages\\tweepy\\api.py:257\u001b[0m, in \u001b[0;36mAPI.request\u001b[1;34m(self, method, endpoint, endpoint_parameters, params, headers, json_payload, parser, payload_list, payload_type, post_data, files, require_auth, return_cursors, upload_api, use_cache, **kwargs)\u001b[0m\n\u001b[0;32m    256\u001b[0m \u001b[38;5;28;01mif\u001b[39;00m resp\u001b[38;5;241m.\u001b[39mstatus_code \u001b[38;5;241m==\u001b[39m \u001b[38;5;241m401\u001b[39m:\n\u001b[1;32m--> 257\u001b[0m     \u001b[38;5;28;01mraise\u001b[39;00m Unauthorized(resp)\n\u001b[0;32m    258\u001b[0m \u001b[38;5;28;01mif\u001b[39;00m resp\u001b[38;5;241m.\u001b[39mstatus_code \u001b[38;5;241m==\u001b[39m \u001b[38;5;241m403\u001b[39m:\n",
      "\u001b[1;31mUnauthorized\u001b[0m: 401 Unauthorized\n89 - Invalid or expired token.",
      "\nDuring handling of the above exception, another exception occurred:\n",
      "\u001b[1;31mAttributeError\u001b[0m                            Traceback (most recent call last)",
      "Input \u001b[1;32mIn [1018]\u001b[0m, in \u001b[0;36m<cell line: 26>\u001b[1;34m()\u001b[0m\n\u001b[0;32m     34\u001b[0m     json\u001b[38;5;241m.\u001b[39mdump(tweet\u001b[38;5;241m.\u001b[39m_json, outfile)\n\u001b[0;32m     35\u001b[0m     outfile\u001b[38;5;241m.\u001b[39mwrite(\u001b[38;5;124m'\u001b[39m\u001b[38;5;130;01m\\n\u001b[39;00m\u001b[38;5;124m'\u001b[39m)\n\u001b[1;32m---> 36\u001b[0m \u001b[38;5;28;01mexcept\u001b[39;00m \u001b[43mtweepy\u001b[49m\u001b[38;5;241;43m.\u001b[39;49m\u001b[43mTweepError\u001b[49m \u001b[38;5;28;01mas\u001b[39;00m e:\n\u001b[0;32m     37\u001b[0m     \u001b[38;5;28mprint\u001b[39m(\u001b[38;5;124m\"\u001b[39m\u001b[38;5;124mFail\u001b[39m\u001b[38;5;124m\"\u001b[39m)\n\u001b[0;32m     38\u001b[0m     fails_dict[tweet_id] \u001b[38;5;241m=\u001b[39m e\n",
      "\u001b[1;31mAttributeError\u001b[0m: module 'tweepy' has no attribute 'TweepError'"
     ]
    }
   ],
   "source": [
    "import tweepy\n",
    "from tweepy import OAuthHandler\n",
    "from timeit import default_timer as timer\n",
    "\n",
    "# Query Twitter API for each tweet in the Twitter archive and save JSON in a text file\n",
    "# These are hidden to comply with Twitter's API terms and conditions\n",
    "consumer_key = 'HIDDEN'\n",
    "consumer_secret = 'HIDDEN'\n",
    "access_token = 'HIDDEN'\n",
    "access_secret = 'HIDDEN'\n",
    "\n",
    "auth = OAuthHandler(consumer_key, consumer_secret)\n",
    "auth.set_access_token(access_token, access_secret)\n",
    "\n",
    "api = tweepy.API(auth, wait_on_rate_limit=True)\n",
    "\n",
    "# Tweet IDs for which to gather additional data via Twitter's API\n",
    "tweet_ids = twitter_archive.tweet_id.values\n",
    "len(tweet_ids)\n",
    "\n",
    "# Query Twitter's API for JSON data for each tweet ID in the Twitter archive\n",
    "count = 0\n",
    "fails_dict = {}\n",
    "start = timer()\n",
    "# Save each tweet's returned JSON as a new line in a .txt file\n",
    "with open('tweet_json.txt', 'w') as outfile:\n",
    "    # This loop will likely take 20-30 minutes to run because of Twitter's rate limit\n",
    "    for tweet_id in tweet_ids:\n",
    "        count += 1\n",
    "        print(str(count) + \": \" + str(tweet_id))\n",
    "        try:\n",
    "            tweet = api.get_status(tweet_id, tweet_mode='extended')\n",
    "            print(\"Success\")\n",
    "            json.dump(tweet._json, outfile)\n",
    "            outfile.write('\\n')\n",
    "        except tweepy.TweepError as e:\n",
    "            print(\"Fail\")\n",
    "            fails_dict[tweet_id] = e\n",
    "            pass\n",
    "end = timer()\n",
    "print(end - start)\n",
    "print(fails_dict)"
   ]
  },
  {
   "cell_type": "code",
   "execution_count": 1019,
   "id": "a05f8fde",
   "metadata": {},
   "outputs": [],
   "source": [
    "#Add additional data from tweet-json.txt\n",
    "retweet_and_favorite = []\n",
    "with open('tweet-json.txt') as f:\n",
    "    for line in f:\n",
    "        tweet = json.loads(line)\n",
    "        data = {'tweet_id': tweet['id'],\n",
    "                'retweets': tweet['retweet_count'],\n",
    "                'favourites': tweet['favorite_count']}\n",
    "        retweet_and_favorite.append(data)\n",
    "        \n",
    "retweet_favorite = pd.DataFrame(retweet_and_favorite)"
   ]
  },
  {
   "cell_type": "code",
   "execution_count": 1020,
   "id": "337a6c10",
   "metadata": {},
   "outputs": [
    {
     "name": "stdout",
     "output_type": "stream",
     "text": [
      "<class 'pandas.core.frame.DataFrame'>\n",
      "RangeIndex: 2354 entries, 0 to 2353\n",
      "Data columns (total 3 columns):\n",
      " #   Column      Non-Null Count  Dtype\n",
      "---  ------      --------------  -----\n",
      " 0   tweet_id    2354 non-null   int64\n",
      " 1   retweets    2354 non-null   int64\n",
      " 2   favourites  2354 non-null   int64\n",
      "dtypes: int64(3)\n",
      "memory usage: 55.3 KB\n"
     ]
    }
   ],
   "source": [
    "retweet_favorite.info()"
   ]
  },
  {
   "cell_type": "markdown",
   "id": "dc4d488d",
   "metadata": {},
   "source": [
    "# 2 - Access Data - Visually and Programatically"
   ]
  },
  {
   "cell_type": "markdown",
   "id": "37f05cbe",
   "metadata": {},
   "source": [
    "> ##         Visual Accessment"
   ]
  },
  {
   "cell_type": "code",
   "execution_count": 1021,
   "id": "01658d03",
   "metadata": {
    "scrolled": true
   },
   "outputs": [
    {
     "data": {
      "text/html": [
       "<div>\n",
       "<style scoped>\n",
       "    .dataframe tbody tr th:only-of-type {\n",
       "        vertical-align: middle;\n",
       "    }\n",
       "\n",
       "    .dataframe tbody tr th {\n",
       "        vertical-align: top;\n",
       "    }\n",
       "\n",
       "    .dataframe thead th {\n",
       "        text-align: right;\n",
       "    }\n",
       "</style>\n",
       "<table border=\"1\" class=\"dataframe\">\n",
       "  <thead>\n",
       "    <tr style=\"text-align: right;\">\n",
       "      <th></th>\n",
       "      <th>tweet_id</th>\n",
       "      <th>in_reply_to_status_id</th>\n",
       "      <th>in_reply_to_user_id</th>\n",
       "      <th>timestamp</th>\n",
       "      <th>source</th>\n",
       "      <th>text</th>\n",
       "      <th>retweeted_status_id</th>\n",
       "      <th>retweeted_status_user_id</th>\n",
       "      <th>retweeted_status_timestamp</th>\n",
       "      <th>expanded_urls</th>\n",
       "      <th>rating_numerator</th>\n",
       "      <th>rating_denominator</th>\n",
       "      <th>name</th>\n",
       "      <th>doggo</th>\n",
       "      <th>floofer</th>\n",
       "      <th>pupper</th>\n",
       "      <th>puppo</th>\n",
       "    </tr>\n",
       "  </thead>\n",
       "  <tbody>\n",
       "    <tr>\n",
       "      <th>1847</th>\n",
       "      <td>675820929667219457</td>\n",
       "      <td>NaN</td>\n",
       "      <td>NaN</td>\n",
       "      <td>2015-12-12 23:34:00 +0000</td>\n",
       "      <td>&lt;a href=\"http://twitter.com/download/iphone\" r...</td>\n",
       "      <td>Here's a handful of sleepy puppers. All look u...</td>\n",
       "      <td>NaN</td>\n",
       "      <td>NaN</td>\n",
       "      <td>NaN</td>\n",
       "      <td>https://twitter.com/dog_rates/status/675820929...</td>\n",
       "      <td>11</td>\n",
       "      <td>10</td>\n",
       "      <td>None</td>\n",
       "      <td>None</td>\n",
       "      <td>None</td>\n",
       "      <td>None</td>\n",
       "      <td>None</td>\n",
       "    </tr>\n",
       "    <tr>\n",
       "      <th>662</th>\n",
       "      <td>790987426131050500</td>\n",
       "      <td>NaN</td>\n",
       "      <td>NaN</td>\n",
       "      <td>2016-10-25 18:44:32 +0000</td>\n",
       "      <td>&lt;a href=\"http://twitter.com/download/iphone\" r...</td>\n",
       "      <td>This is Misty. She has a cowboy hat on her nos...</td>\n",
       "      <td>NaN</td>\n",
       "      <td>NaN</td>\n",
       "      <td>NaN</td>\n",
       "      <td>https://twitter.com/dog_rates/status/790987426...</td>\n",
       "      <td>12</td>\n",
       "      <td>10</td>\n",
       "      <td>Misty</td>\n",
       "      <td>None</td>\n",
       "      <td>None</td>\n",
       "      <td>None</td>\n",
       "      <td>None</td>\n",
       "    </tr>\n",
       "    <tr>\n",
       "      <th>48</th>\n",
       "      <td>882992080364220416</td>\n",
       "      <td>NaN</td>\n",
       "      <td>NaN</td>\n",
       "      <td>2017-07-06 15:58:11 +0000</td>\n",
       "      <td>&lt;a href=\"http://twitter.com/download/iphone\" r...</td>\n",
       "      <td>This is Rusty. He wasn't ready for the first p...</td>\n",
       "      <td>NaN</td>\n",
       "      <td>NaN</td>\n",
       "      <td>NaN</td>\n",
       "      <td>https://twitter.com/dog_rates/status/882992080...</td>\n",
       "      <td>13</td>\n",
       "      <td>10</td>\n",
       "      <td>Rusty</td>\n",
       "      <td>None</td>\n",
       "      <td>None</td>\n",
       "      <td>None</td>\n",
       "      <td>None</td>\n",
       "    </tr>\n",
       "    <tr>\n",
       "      <th>494</th>\n",
       "      <td>813187593374461952</td>\n",
       "      <td>NaN</td>\n",
       "      <td>NaN</td>\n",
       "      <td>2016-12-26 01:00:05 +0000</td>\n",
       "      <td>&lt;a href=\"http://twitter.com/download/iphone\" r...</td>\n",
       "      <td>We only rate dogs. Please don't send in other ...</td>\n",
       "      <td>NaN</td>\n",
       "      <td>NaN</td>\n",
       "      <td>NaN</td>\n",
       "      <td>https://twitter.com/dog_rates/status/813187593...</td>\n",
       "      <td>13</td>\n",
       "      <td>10</td>\n",
       "      <td>None</td>\n",
       "      <td>None</td>\n",
       "      <td>None</td>\n",
       "      <td>None</td>\n",
       "      <td>None</td>\n",
       "    </tr>\n",
       "    <tr>\n",
       "      <th>2119</th>\n",
       "      <td>670417414769758208</td>\n",
       "      <td>NaN</td>\n",
       "      <td>NaN</td>\n",
       "      <td>2015-11-28 01:42:22 +0000</td>\n",
       "      <td>&lt;a href=\"http://twitter.com/download/iphone\" r...</td>\n",
       "      <td>Sharp dog here. Introverted. Loves purple. Not...</td>\n",
       "      <td>NaN</td>\n",
       "      <td>NaN</td>\n",
       "      <td>NaN</td>\n",
       "      <td>https://twitter.com/dog_rates/status/670417414...</td>\n",
       "      <td>6</td>\n",
       "      <td>10</td>\n",
       "      <td>None</td>\n",
       "      <td>None</td>\n",
       "      <td>None</td>\n",
       "      <td>None</td>\n",
       "      <td>None</td>\n",
       "    </tr>\n",
       "    <tr>\n",
       "      <th>247</th>\n",
       "      <td>845459076796616705</td>\n",
       "      <td>NaN</td>\n",
       "      <td>NaN</td>\n",
       "      <td>2017-03-25 02:15:26 +0000</td>\n",
       "      <td>&lt;a href=\"http://twitter.com/download/iphone\" r...</td>\n",
       "      <td>RT @dog_rates: Here's a heartwarming scene of ...</td>\n",
       "      <td>7.562885e+17</td>\n",
       "      <td>4.196984e+09</td>\n",
       "      <td>2016-07-22 00:43:32 +0000</td>\n",
       "      <td>https://twitter.com/dog_rates/status/756288534...</td>\n",
       "      <td>12</td>\n",
       "      <td>10</td>\n",
       "      <td>None</td>\n",
       "      <td>None</td>\n",
       "      <td>None</td>\n",
       "      <td>None</td>\n",
       "      <td>None</td>\n",
       "    </tr>\n",
       "    <tr>\n",
       "      <th>1637</th>\n",
       "      <td>684195085588783105</td>\n",
       "      <td>NaN</td>\n",
       "      <td>NaN</td>\n",
       "      <td>2016-01-05 02:09:54 +0000</td>\n",
       "      <td>&lt;a href=\"http://twitter.com/download/iphone\" r...</td>\n",
       "      <td>This is Tino. He really likes corndogs. 9/10 h...</td>\n",
       "      <td>NaN</td>\n",
       "      <td>NaN</td>\n",
       "      <td>NaN</td>\n",
       "      <td>https://twitter.com/dog_rates/status/684195085...</td>\n",
       "      <td>9</td>\n",
       "      <td>10</td>\n",
       "      <td>Tino</td>\n",
       "      <td>None</td>\n",
       "      <td>None</td>\n",
       "      <td>None</td>\n",
       "      <td>None</td>\n",
       "    </tr>\n",
       "    <tr>\n",
       "      <th>841</th>\n",
       "      <td>766864461642756096</td>\n",
       "      <td>NaN</td>\n",
       "      <td>NaN</td>\n",
       "      <td>2016-08-20 05:08:29 +0000</td>\n",
       "      <td>&lt;a href=\"http://twitter.com/download/iphone\" r...</td>\n",
       "      <td>RT @dog_rates: We only rate dogs... this is a ...</td>\n",
       "      <td>7.599238e+17</td>\n",
       "      <td>4.196984e+09</td>\n",
       "      <td>2016-08-01 01:28:46 +0000</td>\n",
       "      <td>https://twitter.com/dog_rates/status/759923798...</td>\n",
       "      <td>10</td>\n",
       "      <td>10</td>\n",
       "      <td>None</td>\n",
       "      <td>None</td>\n",
       "      <td>None</td>\n",
       "      <td>None</td>\n",
       "      <td>None</td>\n",
       "    </tr>\n",
       "    <tr>\n",
       "      <th>908</th>\n",
       "      <td>757729163776290825</td>\n",
       "      <td>NaN</td>\n",
       "      <td>NaN</td>\n",
       "      <td>2016-07-26 00:08:05 +0000</td>\n",
       "      <td>&lt;a href=\"http://twitter.com/download/iphone\" r...</td>\n",
       "      <td>RT @dog_rates: This is Chompsky. He lives up t...</td>\n",
       "      <td>6.790626e+17</td>\n",
       "      <td>4.196984e+09</td>\n",
       "      <td>2015-12-21 22:15:18 +0000</td>\n",
       "      <td>https://twitter.com/dog_rates/status/679062614...</td>\n",
       "      <td>11</td>\n",
       "      <td>10</td>\n",
       "      <td>Chompsky</td>\n",
       "      <td>None</td>\n",
       "      <td>None</td>\n",
       "      <td>None</td>\n",
       "      <td>None</td>\n",
       "    </tr>\n",
       "    <tr>\n",
       "      <th>1246</th>\n",
       "      <td>711694788429553666</td>\n",
       "      <td>NaN</td>\n",
       "      <td>NaN</td>\n",
       "      <td>2016-03-20 23:23:54 +0000</td>\n",
       "      <td>&lt;a href=\"http://twitter.com/download/iphone\" r...</td>\n",
       "      <td>Oh. My. God. 13/10 magical af https://t.co/Ezu...</td>\n",
       "      <td>NaN</td>\n",
       "      <td>NaN</td>\n",
       "      <td>NaN</td>\n",
       "      <td>https://twitter.com/dog_rates/status/711694788...</td>\n",
       "      <td>13</td>\n",
       "      <td>10</td>\n",
       "      <td>None</td>\n",
       "      <td>None</td>\n",
       "      <td>None</td>\n",
       "      <td>None</td>\n",
       "      <td>None</td>\n",
       "    </tr>\n",
       "  </tbody>\n",
       "</table>\n",
       "</div>"
      ],
      "text/plain": [
       "                tweet_id  in_reply_to_status_id  in_reply_to_user_id  \\\n",
       "1847  675820929667219457                    NaN                  NaN   \n",
       "662   790987426131050500                    NaN                  NaN   \n",
       "48    882992080364220416                    NaN                  NaN   \n",
       "494   813187593374461952                    NaN                  NaN   \n",
       "2119  670417414769758208                    NaN                  NaN   \n",
       "247   845459076796616705                    NaN                  NaN   \n",
       "1637  684195085588783105                    NaN                  NaN   \n",
       "841   766864461642756096                    NaN                  NaN   \n",
       "908   757729163776290825                    NaN                  NaN   \n",
       "1246  711694788429553666                    NaN                  NaN   \n",
       "\n",
       "                      timestamp  \\\n",
       "1847  2015-12-12 23:34:00 +0000   \n",
       "662   2016-10-25 18:44:32 +0000   \n",
       "48    2017-07-06 15:58:11 +0000   \n",
       "494   2016-12-26 01:00:05 +0000   \n",
       "2119  2015-11-28 01:42:22 +0000   \n",
       "247   2017-03-25 02:15:26 +0000   \n",
       "1637  2016-01-05 02:09:54 +0000   \n",
       "841   2016-08-20 05:08:29 +0000   \n",
       "908   2016-07-26 00:08:05 +0000   \n",
       "1246  2016-03-20 23:23:54 +0000   \n",
       "\n",
       "                                                 source  \\\n",
       "1847  <a href=\"http://twitter.com/download/iphone\" r...   \n",
       "662   <a href=\"http://twitter.com/download/iphone\" r...   \n",
       "48    <a href=\"http://twitter.com/download/iphone\" r...   \n",
       "494   <a href=\"http://twitter.com/download/iphone\" r...   \n",
       "2119  <a href=\"http://twitter.com/download/iphone\" r...   \n",
       "247   <a href=\"http://twitter.com/download/iphone\" r...   \n",
       "1637  <a href=\"http://twitter.com/download/iphone\" r...   \n",
       "841   <a href=\"http://twitter.com/download/iphone\" r...   \n",
       "908   <a href=\"http://twitter.com/download/iphone\" r...   \n",
       "1246  <a href=\"http://twitter.com/download/iphone\" r...   \n",
       "\n",
       "                                                   text  retweeted_status_id  \\\n",
       "1847  Here's a handful of sleepy puppers. All look u...                  NaN   \n",
       "662   This is Misty. She has a cowboy hat on her nos...                  NaN   \n",
       "48    This is Rusty. He wasn't ready for the first p...                  NaN   \n",
       "494   We only rate dogs. Please don't send in other ...                  NaN   \n",
       "2119  Sharp dog here. Introverted. Loves purple. Not...                  NaN   \n",
       "247   RT @dog_rates: Here's a heartwarming scene of ...         7.562885e+17   \n",
       "1637  This is Tino. He really likes corndogs. 9/10 h...                  NaN   \n",
       "841   RT @dog_rates: We only rate dogs... this is a ...         7.599238e+17   \n",
       "908   RT @dog_rates: This is Chompsky. He lives up t...         6.790626e+17   \n",
       "1246  Oh. My. God. 13/10 magical af https://t.co/Ezu...                  NaN   \n",
       "\n",
       "      retweeted_status_user_id retweeted_status_timestamp  \\\n",
       "1847                       NaN                        NaN   \n",
       "662                        NaN                        NaN   \n",
       "48                         NaN                        NaN   \n",
       "494                        NaN                        NaN   \n",
       "2119                       NaN                        NaN   \n",
       "247               4.196984e+09  2016-07-22 00:43:32 +0000   \n",
       "1637                       NaN                        NaN   \n",
       "841               4.196984e+09  2016-08-01 01:28:46 +0000   \n",
       "908               4.196984e+09  2015-12-21 22:15:18 +0000   \n",
       "1246                       NaN                        NaN   \n",
       "\n",
       "                                          expanded_urls  rating_numerator  \\\n",
       "1847  https://twitter.com/dog_rates/status/675820929...                11   \n",
       "662   https://twitter.com/dog_rates/status/790987426...                12   \n",
       "48    https://twitter.com/dog_rates/status/882992080...                13   \n",
       "494   https://twitter.com/dog_rates/status/813187593...                13   \n",
       "2119  https://twitter.com/dog_rates/status/670417414...                 6   \n",
       "247   https://twitter.com/dog_rates/status/756288534...                12   \n",
       "1637  https://twitter.com/dog_rates/status/684195085...                 9   \n",
       "841   https://twitter.com/dog_rates/status/759923798...                10   \n",
       "908   https://twitter.com/dog_rates/status/679062614...                11   \n",
       "1246  https://twitter.com/dog_rates/status/711694788...                13   \n",
       "\n",
       "      rating_denominator      name doggo floofer pupper puppo  \n",
       "1847                  10      None  None    None   None  None  \n",
       "662                   10     Misty  None    None   None  None  \n",
       "48                    10     Rusty  None    None   None  None  \n",
       "494                   10      None  None    None   None  None  \n",
       "2119                  10      None  None    None   None  None  \n",
       "247                   10      None  None    None   None  None  \n",
       "1637                  10      Tino  None    None   None  None  \n",
       "841                   10      None  None    None   None  None  \n",
       "908                   10  Chompsky  None    None   None  None  \n",
       "1246                  10      None  None    None   None  None  "
      ]
     },
     "execution_count": 1021,
     "metadata": {},
     "output_type": "execute_result"
    }
   ],
   "source": [
    "#Access Twitter Archive data\n",
    "twitter_archive.sample(10)"
   ]
  },
  {
   "cell_type": "code",
   "execution_count": 1022,
   "id": "4e837904",
   "metadata": {},
   "outputs": [
    {
     "data": {
      "text/html": [
       "<div>\n",
       "<style scoped>\n",
       "    .dataframe tbody tr th:only-of-type {\n",
       "        vertical-align: middle;\n",
       "    }\n",
       "\n",
       "    .dataframe tbody tr th {\n",
       "        vertical-align: top;\n",
       "    }\n",
       "\n",
       "    .dataframe thead th {\n",
       "        text-align: right;\n",
       "    }\n",
       "</style>\n",
       "<table border=\"1\" class=\"dataframe\">\n",
       "  <thead>\n",
       "    <tr style=\"text-align: right;\">\n",
       "      <th></th>\n",
       "      <th>tweet_id</th>\n",
       "      <th>jpg_url</th>\n",
       "      <th>img_num</th>\n",
       "      <th>p1</th>\n",
       "      <th>p1_conf</th>\n",
       "      <th>p1_dog</th>\n",
       "      <th>p2</th>\n",
       "      <th>p2_conf</th>\n",
       "      <th>p2_dog</th>\n",
       "      <th>p3</th>\n",
       "      <th>p3_conf</th>\n",
       "      <th>p3_dog</th>\n",
       "    </tr>\n",
       "  </thead>\n",
       "  <tbody>\n",
       "    <tr>\n",
       "      <th>0</th>\n",
       "      <td>666020888022790149</td>\n",
       "      <td>https://pbs.twimg.com/media/CT4udn0WwAA0aMy.jpg</td>\n",
       "      <td>1</td>\n",
       "      <td>Welsh_springer_spaniel</td>\n",
       "      <td>0.465074</td>\n",
       "      <td>True</td>\n",
       "      <td>collie</td>\n",
       "      <td>0.156665</td>\n",
       "      <td>True</td>\n",
       "      <td>Shetland_sheepdog</td>\n",
       "      <td>0.061428</td>\n",
       "      <td>True</td>\n",
       "    </tr>\n",
       "    <tr>\n",
       "      <th>1</th>\n",
       "      <td>666029285002620928</td>\n",
       "      <td>https://pbs.twimg.com/media/CT42GRgUYAA5iDo.jpg</td>\n",
       "      <td>1</td>\n",
       "      <td>redbone</td>\n",
       "      <td>0.506826</td>\n",
       "      <td>True</td>\n",
       "      <td>miniature_pinscher</td>\n",
       "      <td>0.074192</td>\n",
       "      <td>True</td>\n",
       "      <td>Rhodesian_ridgeback</td>\n",
       "      <td>0.072010</td>\n",
       "      <td>True</td>\n",
       "    </tr>\n",
       "    <tr>\n",
       "      <th>2</th>\n",
       "      <td>666033412701032449</td>\n",
       "      <td>https://pbs.twimg.com/media/CT4521TWwAEvMyu.jpg</td>\n",
       "      <td>1</td>\n",
       "      <td>German_shepherd</td>\n",
       "      <td>0.596461</td>\n",
       "      <td>True</td>\n",
       "      <td>malinois</td>\n",
       "      <td>0.138584</td>\n",
       "      <td>True</td>\n",
       "      <td>bloodhound</td>\n",
       "      <td>0.116197</td>\n",
       "      <td>True</td>\n",
       "    </tr>\n",
       "    <tr>\n",
       "      <th>3</th>\n",
       "      <td>666044226329800704</td>\n",
       "      <td>https://pbs.twimg.com/media/CT5Dr8HUEAA-lEu.jpg</td>\n",
       "      <td>1</td>\n",
       "      <td>Rhodesian_ridgeback</td>\n",
       "      <td>0.408143</td>\n",
       "      <td>True</td>\n",
       "      <td>redbone</td>\n",
       "      <td>0.360687</td>\n",
       "      <td>True</td>\n",
       "      <td>miniature_pinscher</td>\n",
       "      <td>0.222752</td>\n",
       "      <td>True</td>\n",
       "    </tr>\n",
       "    <tr>\n",
       "      <th>4</th>\n",
       "      <td>666049248165822465</td>\n",
       "      <td>https://pbs.twimg.com/media/CT5IQmsXIAAKY4A.jpg</td>\n",
       "      <td>1</td>\n",
       "      <td>miniature_pinscher</td>\n",
       "      <td>0.560311</td>\n",
       "      <td>True</td>\n",
       "      <td>Rottweiler</td>\n",
       "      <td>0.243682</td>\n",
       "      <td>True</td>\n",
       "      <td>Doberman</td>\n",
       "      <td>0.154629</td>\n",
       "      <td>True</td>\n",
       "    </tr>\n",
       "    <tr>\n",
       "      <th>5</th>\n",
       "      <td>666050758794694657</td>\n",
       "      <td>https://pbs.twimg.com/media/CT5Jof1WUAEuVxN.jpg</td>\n",
       "      <td>1</td>\n",
       "      <td>Bernese_mountain_dog</td>\n",
       "      <td>0.651137</td>\n",
       "      <td>True</td>\n",
       "      <td>English_springer</td>\n",
       "      <td>0.263788</td>\n",
       "      <td>True</td>\n",
       "      <td>Greater_Swiss_Mountain_dog</td>\n",
       "      <td>0.016199</td>\n",
       "      <td>True</td>\n",
       "    </tr>\n",
       "    <tr>\n",
       "      <th>6</th>\n",
       "      <td>666051853826850816</td>\n",
       "      <td>https://pbs.twimg.com/media/CT5KoJ1WoAAJash.jpg</td>\n",
       "      <td>1</td>\n",
       "      <td>box_turtle</td>\n",
       "      <td>0.933012</td>\n",
       "      <td>False</td>\n",
       "      <td>mud_turtle</td>\n",
       "      <td>0.045885</td>\n",
       "      <td>False</td>\n",
       "      <td>terrapin</td>\n",
       "      <td>0.017885</td>\n",
       "      <td>False</td>\n",
       "    </tr>\n",
       "    <tr>\n",
       "      <th>7</th>\n",
       "      <td>666055525042405380</td>\n",
       "      <td>https://pbs.twimg.com/media/CT5N9tpXIAAifs1.jpg</td>\n",
       "      <td>1</td>\n",
       "      <td>chow</td>\n",
       "      <td>0.692517</td>\n",
       "      <td>True</td>\n",
       "      <td>Tibetan_mastiff</td>\n",
       "      <td>0.058279</td>\n",
       "      <td>True</td>\n",
       "      <td>fur_coat</td>\n",
       "      <td>0.054449</td>\n",
       "      <td>False</td>\n",
       "    </tr>\n",
       "    <tr>\n",
       "      <th>8</th>\n",
       "      <td>666057090499244032</td>\n",
       "      <td>https://pbs.twimg.com/media/CT5PY90WoAAQGLo.jpg</td>\n",
       "      <td>1</td>\n",
       "      <td>shopping_cart</td>\n",
       "      <td>0.962465</td>\n",
       "      <td>False</td>\n",
       "      <td>shopping_basket</td>\n",
       "      <td>0.014594</td>\n",
       "      <td>False</td>\n",
       "      <td>golden_retriever</td>\n",
       "      <td>0.007959</td>\n",
       "      <td>True</td>\n",
       "    </tr>\n",
       "    <tr>\n",
       "      <th>9</th>\n",
       "      <td>666058600524156928</td>\n",
       "      <td>https://pbs.twimg.com/media/CT5Qw94XAAA_2dP.jpg</td>\n",
       "      <td>1</td>\n",
       "      <td>miniature_poodle</td>\n",
       "      <td>0.201493</td>\n",
       "      <td>True</td>\n",
       "      <td>komondor</td>\n",
       "      <td>0.192305</td>\n",
       "      <td>True</td>\n",
       "      <td>soft-coated_wheaten_terrier</td>\n",
       "      <td>0.082086</td>\n",
       "      <td>True</td>\n",
       "    </tr>\n",
       "  </tbody>\n",
       "</table>\n",
       "</div>"
      ],
      "text/plain": [
       "             tweet_id                                          jpg_url  \\\n",
       "0  666020888022790149  https://pbs.twimg.com/media/CT4udn0WwAA0aMy.jpg   \n",
       "1  666029285002620928  https://pbs.twimg.com/media/CT42GRgUYAA5iDo.jpg   \n",
       "2  666033412701032449  https://pbs.twimg.com/media/CT4521TWwAEvMyu.jpg   \n",
       "3  666044226329800704  https://pbs.twimg.com/media/CT5Dr8HUEAA-lEu.jpg   \n",
       "4  666049248165822465  https://pbs.twimg.com/media/CT5IQmsXIAAKY4A.jpg   \n",
       "5  666050758794694657  https://pbs.twimg.com/media/CT5Jof1WUAEuVxN.jpg   \n",
       "6  666051853826850816  https://pbs.twimg.com/media/CT5KoJ1WoAAJash.jpg   \n",
       "7  666055525042405380  https://pbs.twimg.com/media/CT5N9tpXIAAifs1.jpg   \n",
       "8  666057090499244032  https://pbs.twimg.com/media/CT5PY90WoAAQGLo.jpg   \n",
       "9  666058600524156928  https://pbs.twimg.com/media/CT5Qw94XAAA_2dP.jpg   \n",
       "\n",
       "   img_num                      p1   p1_conf  p1_dog                  p2  \\\n",
       "0        1  Welsh_springer_spaniel  0.465074    True              collie   \n",
       "1        1                 redbone  0.506826    True  miniature_pinscher   \n",
       "2        1         German_shepherd  0.596461    True            malinois   \n",
       "3        1     Rhodesian_ridgeback  0.408143    True             redbone   \n",
       "4        1      miniature_pinscher  0.560311    True          Rottweiler   \n",
       "5        1    Bernese_mountain_dog  0.651137    True    English_springer   \n",
       "6        1              box_turtle  0.933012   False          mud_turtle   \n",
       "7        1                    chow  0.692517    True     Tibetan_mastiff   \n",
       "8        1           shopping_cart  0.962465   False     shopping_basket   \n",
       "9        1        miniature_poodle  0.201493    True            komondor   \n",
       "\n",
       "    p2_conf  p2_dog                           p3   p3_conf  p3_dog  \n",
       "0  0.156665    True            Shetland_sheepdog  0.061428    True  \n",
       "1  0.074192    True          Rhodesian_ridgeback  0.072010    True  \n",
       "2  0.138584    True                   bloodhound  0.116197    True  \n",
       "3  0.360687    True           miniature_pinscher  0.222752    True  \n",
       "4  0.243682    True                     Doberman  0.154629    True  \n",
       "5  0.263788    True   Greater_Swiss_Mountain_dog  0.016199    True  \n",
       "6  0.045885   False                     terrapin  0.017885   False  \n",
       "7  0.058279    True                     fur_coat  0.054449   False  \n",
       "8  0.014594   False             golden_retriever  0.007959    True  \n",
       "9  0.192305    True  soft-coated_wheaten_terrier  0.082086    True  "
      ]
     },
     "execution_count": 1022,
     "metadata": {},
     "output_type": "execute_result"
    }
   ],
   "source": [
    "#Access image prediction file\n",
    "image_pred.head(10)"
   ]
  },
  {
   "cell_type": "code",
   "execution_count": 1023,
   "id": "cb63a98d",
   "metadata": {},
   "outputs": [
    {
     "data": {
      "text/html": [
       "<div>\n",
       "<style scoped>\n",
       "    .dataframe tbody tr th:only-of-type {\n",
       "        vertical-align: middle;\n",
       "    }\n",
       "\n",
       "    .dataframe tbody tr th {\n",
       "        vertical-align: top;\n",
       "    }\n",
       "\n",
       "    .dataframe thead th {\n",
       "        text-align: right;\n",
       "    }\n",
       "</style>\n",
       "<table border=\"1\" class=\"dataframe\">\n",
       "  <thead>\n",
       "    <tr style=\"text-align: right;\">\n",
       "      <th></th>\n",
       "      <th>tweet_id</th>\n",
       "      <th>retweets</th>\n",
       "      <th>favourites</th>\n",
       "    </tr>\n",
       "  </thead>\n",
       "  <tbody>\n",
       "    <tr>\n",
       "      <th>0</th>\n",
       "      <td>892420643555336193</td>\n",
       "      <td>8853</td>\n",
       "      <td>39467</td>\n",
       "    </tr>\n",
       "    <tr>\n",
       "      <th>1</th>\n",
       "      <td>892177421306343426</td>\n",
       "      <td>6514</td>\n",
       "      <td>33819</td>\n",
       "    </tr>\n",
       "    <tr>\n",
       "      <th>2</th>\n",
       "      <td>891815181378084864</td>\n",
       "      <td>4328</td>\n",
       "      <td>25461</td>\n",
       "    </tr>\n",
       "    <tr>\n",
       "      <th>3</th>\n",
       "      <td>891689557279858688</td>\n",
       "      <td>8964</td>\n",
       "      <td>42908</td>\n",
       "    </tr>\n",
       "    <tr>\n",
       "      <th>4</th>\n",
       "      <td>891327558926688256</td>\n",
       "      <td>9774</td>\n",
       "      <td>41048</td>\n",
       "    </tr>\n",
       "    <tr>\n",
       "      <th>...</th>\n",
       "      <td>...</td>\n",
       "      <td>...</td>\n",
       "      <td>...</td>\n",
       "    </tr>\n",
       "    <tr>\n",
       "      <th>2349</th>\n",
       "      <td>666049248165822465</td>\n",
       "      <td>41</td>\n",
       "      <td>111</td>\n",
       "    </tr>\n",
       "    <tr>\n",
       "      <th>2350</th>\n",
       "      <td>666044226329800704</td>\n",
       "      <td>147</td>\n",
       "      <td>311</td>\n",
       "    </tr>\n",
       "    <tr>\n",
       "      <th>2351</th>\n",
       "      <td>666033412701032449</td>\n",
       "      <td>47</td>\n",
       "      <td>128</td>\n",
       "    </tr>\n",
       "    <tr>\n",
       "      <th>2352</th>\n",
       "      <td>666029285002620928</td>\n",
       "      <td>48</td>\n",
       "      <td>132</td>\n",
       "    </tr>\n",
       "    <tr>\n",
       "      <th>2353</th>\n",
       "      <td>666020888022790149</td>\n",
       "      <td>532</td>\n",
       "      <td>2535</td>\n",
       "    </tr>\n",
       "  </tbody>\n",
       "</table>\n",
       "<p>2354 rows × 3 columns</p>\n",
       "</div>"
      ],
      "text/plain": [
       "                tweet_id  retweets  favourites\n",
       "0     892420643555336193      8853       39467\n",
       "1     892177421306343426      6514       33819\n",
       "2     891815181378084864      4328       25461\n",
       "3     891689557279858688      8964       42908\n",
       "4     891327558926688256      9774       41048\n",
       "...                  ...       ...         ...\n",
       "2349  666049248165822465        41         111\n",
       "2350  666044226329800704       147         311\n",
       "2351  666033412701032449        47         128\n",
       "2352  666029285002620928        48         132\n",
       "2353  666020888022790149       532        2535\n",
       "\n",
       "[2354 rows x 3 columns]"
      ]
     },
     "execution_count": 1023,
     "metadata": {},
     "output_type": "execute_result"
    }
   ],
   "source": [
    "#Access retweet and favourite count data frame\n",
    "retweet_favorite"
   ]
  },
  {
   "cell_type": "markdown",
   "id": "d43b0301",
   "metadata": {},
   "source": [
    ">##         Programmatic Assessment"
   ]
  },
  {
   "cell_type": "code",
   "execution_count": 1024,
   "id": "5504eaf2",
   "metadata": {
    "scrolled": true
   },
   "outputs": [
    {
     "data": {
      "text/html": [
       "<div>\n",
       "<style scoped>\n",
       "    .dataframe tbody tr th:only-of-type {\n",
       "        vertical-align: middle;\n",
       "    }\n",
       "\n",
       "    .dataframe tbody tr th {\n",
       "        vertical-align: top;\n",
       "    }\n",
       "\n",
       "    .dataframe thead th {\n",
       "        text-align: right;\n",
       "    }\n",
       "</style>\n",
       "<table border=\"1\" class=\"dataframe\">\n",
       "  <thead>\n",
       "    <tr style=\"text-align: right;\">\n",
       "      <th></th>\n",
       "      <th>tweet_id</th>\n",
       "      <th>in_reply_to_status_id</th>\n",
       "      <th>in_reply_to_user_id</th>\n",
       "      <th>retweeted_status_id</th>\n",
       "      <th>retweeted_status_user_id</th>\n",
       "      <th>rating_numerator</th>\n",
       "      <th>rating_denominator</th>\n",
       "    </tr>\n",
       "  </thead>\n",
       "  <tbody>\n",
       "    <tr>\n",
       "      <th>count</th>\n",
       "      <td>2.356000e+03</td>\n",
       "      <td>7.800000e+01</td>\n",
       "      <td>7.800000e+01</td>\n",
       "      <td>1.810000e+02</td>\n",
       "      <td>1.810000e+02</td>\n",
       "      <td>2356.000000</td>\n",
       "      <td>2356.000000</td>\n",
       "    </tr>\n",
       "    <tr>\n",
       "      <th>mean</th>\n",
       "      <td>7.427716e+17</td>\n",
       "      <td>7.455079e+17</td>\n",
       "      <td>2.014171e+16</td>\n",
       "      <td>7.720400e+17</td>\n",
       "      <td>1.241698e+16</td>\n",
       "      <td>13.126486</td>\n",
       "      <td>10.455433</td>\n",
       "    </tr>\n",
       "    <tr>\n",
       "      <th>std</th>\n",
       "      <td>6.856705e+16</td>\n",
       "      <td>7.582492e+16</td>\n",
       "      <td>1.252797e+17</td>\n",
       "      <td>6.236928e+16</td>\n",
       "      <td>9.599254e+16</td>\n",
       "      <td>45.876648</td>\n",
       "      <td>6.745237</td>\n",
       "    </tr>\n",
       "    <tr>\n",
       "      <th>min</th>\n",
       "      <td>6.660209e+17</td>\n",
       "      <td>6.658147e+17</td>\n",
       "      <td>1.185634e+07</td>\n",
       "      <td>6.661041e+17</td>\n",
       "      <td>7.832140e+05</td>\n",
       "      <td>0.000000</td>\n",
       "      <td>0.000000</td>\n",
       "    </tr>\n",
       "    <tr>\n",
       "      <th>25%</th>\n",
       "      <td>6.783989e+17</td>\n",
       "      <td>6.757419e+17</td>\n",
       "      <td>3.086374e+08</td>\n",
       "      <td>7.186315e+17</td>\n",
       "      <td>4.196984e+09</td>\n",
       "      <td>10.000000</td>\n",
       "      <td>10.000000</td>\n",
       "    </tr>\n",
       "    <tr>\n",
       "      <th>50%</th>\n",
       "      <td>7.196279e+17</td>\n",
       "      <td>7.038708e+17</td>\n",
       "      <td>4.196984e+09</td>\n",
       "      <td>7.804657e+17</td>\n",
       "      <td>4.196984e+09</td>\n",
       "      <td>11.000000</td>\n",
       "      <td>10.000000</td>\n",
       "    </tr>\n",
       "    <tr>\n",
       "      <th>75%</th>\n",
       "      <td>7.993373e+17</td>\n",
       "      <td>8.257804e+17</td>\n",
       "      <td>4.196984e+09</td>\n",
       "      <td>8.203146e+17</td>\n",
       "      <td>4.196984e+09</td>\n",
       "      <td>12.000000</td>\n",
       "      <td>10.000000</td>\n",
       "    </tr>\n",
       "    <tr>\n",
       "      <th>max</th>\n",
       "      <td>8.924206e+17</td>\n",
       "      <td>8.862664e+17</td>\n",
       "      <td>8.405479e+17</td>\n",
       "      <td>8.874740e+17</td>\n",
       "      <td>7.874618e+17</td>\n",
       "      <td>1776.000000</td>\n",
       "      <td>170.000000</td>\n",
       "    </tr>\n",
       "  </tbody>\n",
       "</table>\n",
       "</div>"
      ],
      "text/plain": [
       "           tweet_id  in_reply_to_status_id  in_reply_to_user_id  \\\n",
       "count  2.356000e+03           7.800000e+01         7.800000e+01   \n",
       "mean   7.427716e+17           7.455079e+17         2.014171e+16   \n",
       "std    6.856705e+16           7.582492e+16         1.252797e+17   \n",
       "min    6.660209e+17           6.658147e+17         1.185634e+07   \n",
       "25%    6.783989e+17           6.757419e+17         3.086374e+08   \n",
       "50%    7.196279e+17           7.038708e+17         4.196984e+09   \n",
       "75%    7.993373e+17           8.257804e+17         4.196984e+09   \n",
       "max    8.924206e+17           8.862664e+17         8.405479e+17   \n",
       "\n",
       "       retweeted_status_id  retweeted_status_user_id  rating_numerator  \\\n",
       "count         1.810000e+02              1.810000e+02       2356.000000   \n",
       "mean          7.720400e+17              1.241698e+16         13.126486   \n",
       "std           6.236928e+16              9.599254e+16         45.876648   \n",
       "min           6.661041e+17              7.832140e+05          0.000000   \n",
       "25%           7.186315e+17              4.196984e+09         10.000000   \n",
       "50%           7.804657e+17              4.196984e+09         11.000000   \n",
       "75%           8.203146e+17              4.196984e+09         12.000000   \n",
       "max           8.874740e+17              7.874618e+17       1776.000000   \n",
       "\n",
       "       rating_denominator  \n",
       "count         2356.000000  \n",
       "mean            10.455433  \n",
       "std              6.745237  \n",
       "min              0.000000  \n",
       "25%             10.000000  \n",
       "50%             10.000000  \n",
       "75%             10.000000  \n",
       "max            170.000000  "
      ]
     },
     "execution_count": 1024,
     "metadata": {},
     "output_type": "execute_result"
    }
   ],
   "source": [
    "#Details of Tweets\n",
    "twitter_archive.describe()"
   ]
  },
  {
   "cell_type": "code",
   "execution_count": 1025,
   "id": "e05334fb",
   "metadata": {},
   "outputs": [
    {
     "name": "stdout",
     "output_type": "stream",
     "text": [
      "<class 'pandas.core.frame.DataFrame'>\n",
      "RangeIndex: 2356 entries, 0 to 2355\n",
      "Data columns (total 17 columns):\n",
      " #   Column                      Non-Null Count  Dtype  \n",
      "---  ------                      --------------  -----  \n",
      " 0   tweet_id                    2356 non-null   int64  \n",
      " 1   in_reply_to_status_id       78 non-null     float64\n",
      " 2   in_reply_to_user_id         78 non-null     float64\n",
      " 3   timestamp                   2356 non-null   object \n",
      " 4   source                      2356 non-null   object \n",
      " 5   text                        2356 non-null   object \n",
      " 6   retweeted_status_id         181 non-null    float64\n",
      " 7   retweeted_status_user_id    181 non-null    float64\n",
      " 8   retweeted_status_timestamp  181 non-null    object \n",
      " 9   expanded_urls               2297 non-null   object \n",
      " 10  rating_numerator            2356 non-null   int64  \n",
      " 11  rating_denominator          2356 non-null   int64  \n",
      " 12  name                        2356 non-null   object \n",
      " 13  doggo                       2356 non-null   object \n",
      " 14  floofer                     2356 non-null   object \n",
      " 15  pupper                      2356 non-null   object \n",
      " 16  puppo                       2356 non-null   object \n",
      "dtypes: float64(4), int64(3), object(10)\n",
      "memory usage: 313.0+ KB\n"
     ]
    }
   ],
   "source": [
    "twitter_archive.info()"
   ]
  },
  {
   "cell_type": "code",
   "execution_count": 1026,
   "id": "5cc0f9aa",
   "metadata": {},
   "outputs": [
    {
     "name": "stdout",
     "output_type": "stream",
     "text": [
      "timestamp : <class 'str'>\n"
     ]
    }
   ],
   "source": [
    "#Check the data type of  timestamp in the twitter archive\n",
    "print('timestamp :', type(twitter_archive.timestamp[0]))"
   ]
  },
  {
   "cell_type": "code",
   "execution_count": 1027,
   "id": "87473385",
   "metadata": {},
   "outputs": [
    {
     "data": {
      "text/plain": [
       "None          745\n",
       "a              55\n",
       "Charlie        12\n",
       "Cooper         11\n",
       "Lucy           11\n",
       "             ... \n",
       "Dex             1\n",
       "Ace             1\n",
       "Tayzie          1\n",
       "Grizzie         1\n",
       "Christoper      1\n",
       "Name: name, Length: 957, dtype: int64"
      ]
     },
     "execution_count": 1027,
     "metadata": {},
     "output_type": "execute_result"
    }
   ],
   "source": [
    "twitter_archive.name.value_counts()"
   ]
  },
  {
   "cell_type": "code",
   "execution_count": 1028,
   "id": "ede1ac19",
   "metadata": {},
   "outputs": [
    {
     "data": {
      "text/plain": [
       "0"
      ]
     },
     "execution_count": 1028,
     "metadata": {},
     "output_type": "execute_result"
    }
   ],
   "source": [
    "# Check for duplicate entries in twitter archive\n",
    "sum(twitter_archive.duplicated())"
   ]
  },
  {
   "cell_type": "code",
   "execution_count": 1029,
   "id": "7491ff74",
   "metadata": {},
   "outputs": [
    {
     "data": {
      "text/plain": [
       "59"
      ]
     },
     "execution_count": 1029,
     "metadata": {},
     "output_type": "execute_result"
    }
   ],
   "source": [
    "#Check twets with missing url\n",
    "sum(twitter_archive.expanded_urls.isna())"
   ]
  },
  {
   "cell_type": "code",
   "execution_count": 1030,
   "id": "e44fd4b1",
   "metadata": {},
   "outputs": [
    {
     "data": {
      "text/plain": [
       "tweet_id                         0\n",
       "in_reply_to_status_id         2278\n",
       "in_reply_to_user_id           2278\n",
       "timestamp                        0\n",
       "source                           0\n",
       "text                             0\n",
       "retweeted_status_id           2175\n",
       "retweeted_status_user_id      2175\n",
       "retweeted_status_timestamp    2175\n",
       "expanded_urls                   59\n",
       "rating_numerator                 0\n",
       "rating_denominator               0\n",
       "name                             0\n",
       "doggo                            0\n",
       "floofer                          0\n",
       "pupper                           0\n",
       "puppo                            0\n",
       "dtype: int64"
      ]
     },
     "execution_count": 1030,
     "metadata": {},
     "output_type": "execute_result"
    }
   ],
   "source": [
    "#Check the row with missing value\n",
    "twitter_archive.isnull().sum()"
   ]
  },
  {
   "cell_type": "code",
   "execution_count": 1031,
   "id": "da7b5d86",
   "metadata": {},
   "outputs": [
    {
     "data": {
      "text/plain": [
       "10     2333\n",
       "11        3\n",
       "50        3\n",
       "20        2\n",
       "80        2\n",
       "70        1\n",
       "7         1\n",
       "15        1\n",
       "150       1\n",
       "170       1\n",
       "0         1\n",
       "90        1\n",
       "40        1\n",
       "130       1\n",
       "110       1\n",
       "16        1\n",
       "120       1\n",
       "2         1\n",
       "Name: rating_denominator, dtype: int64"
      ]
     },
     "execution_count": 1031,
     "metadata": {},
     "output_type": "execute_result"
    }
   ],
   "source": [
    "# Check denominator counts\n",
    "twitter_archive.rating_denominator.value_counts()"
   ]
  },
  {
   "cell_type": "code",
   "execution_count": 1032,
   "id": "3086c5c6",
   "metadata": {},
   "outputs": [
    {
     "name": "stdout",
     "output_type": "stream",
     "text": [
      "<class 'pandas.core.frame.DataFrame'>\n",
      "RangeIndex: 2356 entries, 0 to 2355\n",
      "Data columns (total 17 columns):\n",
      " #   Column                      Non-Null Count  Dtype  \n",
      "---  ------                      --------------  -----  \n",
      " 0   tweet_id                    2356 non-null   int64  \n",
      " 1   in_reply_to_status_id       78 non-null     float64\n",
      " 2   in_reply_to_user_id         78 non-null     float64\n",
      " 3   timestamp                   2356 non-null   object \n",
      " 4   source                      2356 non-null   object \n",
      " 5   text                        2356 non-null   object \n",
      " 6   retweeted_status_id         181 non-null    float64\n",
      " 7   retweeted_status_user_id    181 non-null    float64\n",
      " 8   retweeted_status_timestamp  181 non-null    object \n",
      " 9   expanded_urls               2297 non-null   object \n",
      " 10  rating_numerator            2356 non-null   int64  \n",
      " 11  rating_denominator          2356 non-null   int64  \n",
      " 12  name                        2356 non-null   object \n",
      " 13  doggo                       2356 non-null   object \n",
      " 14  floofer                     2356 non-null   object \n",
      " 15  pupper                      2356 non-null   object \n",
      " 16  puppo                       2356 non-null   object \n",
      "dtypes: float64(4), int64(3), object(10)\n",
      "memory usage: 313.0+ KB\n"
     ]
    }
   ],
   "source": [
    "twitter_archive.info()"
   ]
  },
  {
   "cell_type": "code",
   "execution_count": 1033,
   "id": "e7e55722",
   "metadata": {
    "scrolled": true
   },
   "outputs": [
    {
     "name": "stdout",
     "output_type": "stream",
     "text": [
      "<class 'pandas.core.frame.DataFrame'>\n",
      "RangeIndex: 2075 entries, 0 to 2074\n",
      "Data columns (total 12 columns):\n",
      " #   Column    Non-Null Count  Dtype  \n",
      "---  ------    --------------  -----  \n",
      " 0   tweet_id  2075 non-null   int64  \n",
      " 1   jpg_url   2075 non-null   object \n",
      " 2   img_num   2075 non-null   int64  \n",
      " 3   p1        2075 non-null   object \n",
      " 4   p1_conf   2075 non-null   float64\n",
      " 5   p1_dog    2075 non-null   bool   \n",
      " 6   p2        2075 non-null   object \n",
      " 7   p2_conf   2075 non-null   float64\n",
      " 8   p2_dog    2075 non-null   bool   \n",
      " 9   p3        2075 non-null   object \n",
      " 10  p3_conf   2075 non-null   float64\n",
      " 11  p3_dog    2075 non-null   bool   \n",
      "dtypes: bool(3), float64(3), int64(2), object(4)\n",
      "memory usage: 152.1+ KB\n"
     ]
    }
   ],
   "source": [
    "image_pred.info()"
   ]
  },
  {
   "cell_type": "code",
   "execution_count": 1034,
   "id": "67275393",
   "metadata": {},
   "outputs": [
    {
     "data": {
      "text/plain": [
       "0"
      ]
     },
     "execution_count": 1034,
     "metadata": {},
     "output_type": "execute_result"
    }
   ],
   "source": [
    "# Check for duplicate entries in image prediction dataframe\n",
    "sum(image_pred.duplicated())"
   ]
  },
  {
   "cell_type": "code",
   "execution_count": 1035,
   "id": "a8040490",
   "metadata": {},
   "outputs": [
    {
     "data": {
      "text/plain": [
       "tweet_id    0\n",
       "jpg_url     0\n",
       "img_num     0\n",
       "p1          0\n",
       "p1_conf     0\n",
       "p1_dog      0\n",
       "p2          0\n",
       "p2_conf     0\n",
       "p2_dog      0\n",
       "p3          0\n",
       "p3_conf     0\n",
       "p3_dog      0\n",
       "dtype: int64"
      ]
     },
     "execution_count": 1035,
     "metadata": {},
     "output_type": "execute_result"
    }
   ],
   "source": [
    "# Check for null entries in image prediction dataframe\n",
    "image_pred.isnull().sum()"
   ]
  },
  {
   "cell_type": "code",
   "execution_count": 1036,
   "id": "d357bc31",
   "metadata": {},
   "outputs": [
    {
     "name": "stdout",
     "output_type": "stream",
     "text": [
      "<class 'pandas.core.frame.DataFrame'>\n",
      "RangeIndex: 2354 entries, 0 to 2353\n",
      "Data columns (total 3 columns):\n",
      " #   Column      Non-Null Count  Dtype\n",
      "---  ------      --------------  -----\n",
      " 0   tweet_id    2354 non-null   int64\n",
      " 1   retweets    2354 non-null   int64\n",
      " 2   favourites  2354 non-null   int64\n",
      "dtypes: int64(3)\n",
      "memory usage: 55.3 KB\n"
     ]
    }
   ],
   "source": [
    "# Check the info of retweet and favourite dataframe\n",
    "retweet_favorite.info()"
   ]
  },
  {
   "cell_type": "code",
   "execution_count": 1037,
   "id": "24eb3c06",
   "metadata": {},
   "outputs": [
    {
     "data": {
      "text/html": [
       "<div>\n",
       "<style scoped>\n",
       "    .dataframe tbody tr th:only-of-type {\n",
       "        vertical-align: middle;\n",
       "    }\n",
       "\n",
       "    .dataframe tbody tr th {\n",
       "        vertical-align: top;\n",
       "    }\n",
       "\n",
       "    .dataframe thead th {\n",
       "        text-align: right;\n",
       "    }\n",
       "</style>\n",
       "<table border=\"1\" class=\"dataframe\">\n",
       "  <thead>\n",
       "    <tr style=\"text-align: right;\">\n",
       "      <th></th>\n",
       "      <th>tweet_id</th>\n",
       "      <th>retweets</th>\n",
       "      <th>favourites</th>\n",
       "    </tr>\n",
       "  </thead>\n",
       "  <tbody>\n",
       "    <tr>\n",
       "      <th>count</th>\n",
       "      <td>2.354000e+03</td>\n",
       "      <td>2354.000000</td>\n",
       "      <td>2354.000000</td>\n",
       "    </tr>\n",
       "    <tr>\n",
       "      <th>mean</th>\n",
       "      <td>7.426978e+17</td>\n",
       "      <td>3164.797366</td>\n",
       "      <td>8080.968564</td>\n",
       "    </tr>\n",
       "    <tr>\n",
       "      <th>std</th>\n",
       "      <td>6.852812e+16</td>\n",
       "      <td>5284.770364</td>\n",
       "      <td>11814.771334</td>\n",
       "    </tr>\n",
       "    <tr>\n",
       "      <th>min</th>\n",
       "      <td>6.660209e+17</td>\n",
       "      <td>0.000000</td>\n",
       "      <td>0.000000</td>\n",
       "    </tr>\n",
       "    <tr>\n",
       "      <th>25%</th>\n",
       "      <td>6.783975e+17</td>\n",
       "      <td>624.500000</td>\n",
       "      <td>1415.000000</td>\n",
       "    </tr>\n",
       "    <tr>\n",
       "      <th>50%</th>\n",
       "      <td>7.194596e+17</td>\n",
       "      <td>1473.500000</td>\n",
       "      <td>3603.500000</td>\n",
       "    </tr>\n",
       "    <tr>\n",
       "      <th>75%</th>\n",
       "      <td>7.993058e+17</td>\n",
       "      <td>3652.000000</td>\n",
       "      <td>10122.250000</td>\n",
       "    </tr>\n",
       "    <tr>\n",
       "      <th>max</th>\n",
       "      <td>8.924206e+17</td>\n",
       "      <td>79515.000000</td>\n",
       "      <td>132810.000000</td>\n",
       "    </tr>\n",
       "  </tbody>\n",
       "</table>\n",
       "</div>"
      ],
      "text/plain": [
       "           tweet_id      retweets     favourites\n",
       "count  2.354000e+03   2354.000000    2354.000000\n",
       "mean   7.426978e+17   3164.797366    8080.968564\n",
       "std    6.852812e+16   5284.770364   11814.771334\n",
       "min    6.660209e+17      0.000000       0.000000\n",
       "25%    6.783975e+17    624.500000    1415.000000\n",
       "50%    7.194596e+17   1473.500000    3603.500000\n",
       "75%    7.993058e+17   3652.000000   10122.250000\n",
       "max    8.924206e+17  79515.000000  132810.000000"
      ]
     },
     "execution_count": 1037,
     "metadata": {},
     "output_type": "execute_result"
    }
   ],
   "source": [
    "retweet_favorite.describe()"
   ]
  },
  {
   "cell_type": "code",
   "execution_count": 1038,
   "id": "c9764c52",
   "metadata": {},
   "outputs": [
    {
     "data": {
      "text/plain": [
       "0"
      ]
     },
     "execution_count": 1038,
     "metadata": {},
     "output_type": "execute_result"
    }
   ],
   "source": [
    "# Check for duplicate entries in retweet and favourite dataframe\n",
    "sum(retweet_favorite.duplicated())"
   ]
  },
  {
   "cell_type": "code",
   "execution_count": 1039,
   "id": "40a476b3",
   "metadata": {},
   "outputs": [
    {
     "data": {
      "text/plain": [
       "0"
      ]
     },
     "execution_count": 1039,
     "metadata": {},
     "output_type": "execute_result"
    }
   ],
   "source": [
    "sum(retweet_favorite.favourites.isnull())"
   ]
  },
  {
   "cell_type": "code",
   "execution_count": 1040,
   "id": "5e9590c2",
   "metadata": {},
   "outputs": [
    {
     "name": "stdout",
     "output_type": "stream",
     "text": [
      "<class 'pandas.core.frame.DataFrame'>\n",
      "RangeIndex: 2354 entries, 0 to 2353\n",
      "Data columns (total 3 columns):\n",
      " #   Column      Non-Null Count  Dtype\n",
      "---  ------      --------------  -----\n",
      " 0   tweet_id    2354 non-null   int64\n",
      " 1   retweets    2354 non-null   int64\n",
      " 2   favourites  2354 non-null   int64\n",
      "dtypes: int64(3)\n",
      "memory usage: 55.3 KB\n"
     ]
    }
   ],
   "source": [
    "retweet_favorite.info(0)"
   ]
  },
  {
   "cell_type": "markdown",
   "id": "3460c7d5",
   "metadata": {},
   "source": [
    "### Observation from  assessment\n",
    "\n",
    "#### Quality Issues\n",
    "- ##### Twitter Archive\n",
    "> - There are unsual names in the name column. Names like 'a', 'very' and 'None' (**Resolved**) <br> \n",
    "> - Missing values in 'in_reply_to_status_id', 'in_reply_to_user_id', 'retweeted_status_id', and  'retweeted_status_user_id' column (**Resolved**) <br>    \n",
    "> - Tweet_id should be a string data type.\n",
    "> - The maximum and minimum value for rating_denomenator are 170 and 0. These are not accurate, denominator should be 10, except in some cases (**Resolved**) <br>\n",
    "> - Some tweets does not have link/url (59 null in expanded urls) (**Resolved**)\n",
    "> - Timestamp column datatype is string, this is not right. (**Resolved**)\n",
    "> - Dogs_Stage name \"Unknown\", should be investigated (**Resolved**)\n",
    "- ##### Image Prediction\n",
    "> - The image prediction number is less than the number of tweets\n",
    "> - p1, p2 etc is not descriptive. This will be cleaned and renamed appropriately (**Resolved**) <br>\n",
    "\n",
    "\n",
    "#### Tidiness Issues\n",
    "- ##### Image Prediction & Twitter Archive\n",
    "> - Dog names should be in one column not 3 (**Resolved**) <br>\n",
    "> - Merge all the datasets for better analysis (**Resolved**)\n",
    "> - Some columns are not necessary for the analysis (retweeted_status_id\tretweeted_status_user_id\tretweeted_status_timestamp) (**Resolved**) <br>"
   ]
  },
  {
   "cell_type": "markdown",
   "id": "dc0e9bec",
   "metadata": {},
   "source": [
    "## 3 - Data Cleaning "
   ]
  },
  {
   "cell_type": "code",
   "execution_count": 1041,
   "id": "624ecc7a",
   "metadata": {},
   "outputs": [],
   "source": [
    "# Create a copy of all the dataframe before starting the cleaning processes\n",
    "twitter_archive_clean = twitter_archive.copy()\n",
    "image_pred_clean = image_pred.copy()\n",
    "retweet_favorite_clean = retweet_favorite.copy()"
   ]
  },
  {
   "cell_type": "code",
   "execution_count": 1042,
   "id": "c5eba405",
   "metadata": {},
   "outputs": [
    {
     "data": {
      "text/html": [
       "<div>\n",
       "<style scoped>\n",
       "    .dataframe tbody tr th:only-of-type {\n",
       "        vertical-align: middle;\n",
       "    }\n",
       "\n",
       "    .dataframe tbody tr th {\n",
       "        vertical-align: top;\n",
       "    }\n",
       "\n",
       "    .dataframe thead th {\n",
       "        text-align: right;\n",
       "    }\n",
       "</style>\n",
       "<table border=\"1\" class=\"dataframe\">\n",
       "  <thead>\n",
       "    <tr style=\"text-align: right;\">\n",
       "      <th></th>\n",
       "      <th>tweet_id</th>\n",
       "      <th>in_reply_to_status_id</th>\n",
       "      <th>in_reply_to_user_id</th>\n",
       "      <th>timestamp</th>\n",
       "      <th>source</th>\n",
       "      <th>text</th>\n",
       "      <th>retweeted_status_id</th>\n",
       "      <th>retweeted_status_user_id</th>\n",
       "      <th>retweeted_status_timestamp</th>\n",
       "      <th>expanded_urls</th>\n",
       "      <th>rating_numerator</th>\n",
       "      <th>rating_denominator</th>\n",
       "      <th>name</th>\n",
       "      <th>doggo</th>\n",
       "      <th>floofer</th>\n",
       "      <th>pupper</th>\n",
       "      <th>puppo</th>\n",
       "    </tr>\n",
       "  </thead>\n",
       "  <tbody>\n",
       "    <tr>\n",
       "      <th>1989</th>\n",
       "      <td>672828477930868736</td>\n",
       "      <td>NaN</td>\n",
       "      <td>NaN</td>\n",
       "      <td>2015-12-04 17:23:04 +0000</td>\n",
       "      <td>&lt;a href=\"http://twitter.com/download/iphone\" r...</td>\n",
       "      <td>This is Jerry. He's a Timbuk Slytherin. Eats h...</td>\n",
       "      <td>NaN</td>\n",
       "      <td>NaN</td>\n",
       "      <td>NaN</td>\n",
       "      <td>https://twitter.com/dog_rates/status/672828477...</td>\n",
       "      <td>9</td>\n",
       "      <td>10</td>\n",
       "      <td>Jerry</td>\n",
       "      <td>None</td>\n",
       "      <td>None</td>\n",
       "      <td>None</td>\n",
       "      <td>None</td>\n",
       "    </tr>\n",
       "    <tr>\n",
       "      <th>253</th>\n",
       "      <td>844704788403113984</td>\n",
       "      <td>NaN</td>\n",
       "      <td>NaN</td>\n",
       "      <td>2017-03-23 00:18:10 +0000</td>\n",
       "      <td>&lt;a href=\"http://twitter.com/download/iphone\" r...</td>\n",
       "      <td>This is Luna. It's her first time outside and ...</td>\n",
       "      <td>NaN</td>\n",
       "      <td>NaN</td>\n",
       "      <td>NaN</td>\n",
       "      <td>https://twitter.com/dog_rates/status/844704788...</td>\n",
       "      <td>13</td>\n",
       "      <td>10</td>\n",
       "      <td>Luna</td>\n",
       "      <td>None</td>\n",
       "      <td>None</td>\n",
       "      <td>None</td>\n",
       "      <td>None</td>\n",
       "    </tr>\n",
       "    <tr>\n",
       "      <th>153</th>\n",
       "      <td>862457590147678208</td>\n",
       "      <td>NaN</td>\n",
       "      <td>NaN</td>\n",
       "      <td>2017-05-11 00:01:27 +0000</td>\n",
       "      <td>&lt;a href=\"http://twitter.com/download/iphone\" r...</td>\n",
       "      <td>This is Jersey. He likes to watch movies, but ...</td>\n",
       "      <td>NaN</td>\n",
       "      <td>NaN</td>\n",
       "      <td>NaN</td>\n",
       "      <td>https://twitter.com/dog_rates/status/862457590...</td>\n",
       "      <td>13</td>\n",
       "      <td>10</td>\n",
       "      <td>Jersey</td>\n",
       "      <td>None</td>\n",
       "      <td>None</td>\n",
       "      <td>None</td>\n",
       "      <td>None</td>\n",
       "    </tr>\n",
       "    <tr>\n",
       "      <th>1705</th>\n",
       "      <td>680836378243002368</td>\n",
       "      <td>NaN</td>\n",
       "      <td>NaN</td>\n",
       "      <td>2015-12-26 19:43:36 +0000</td>\n",
       "      <td>&lt;a href=\"http://twitter.com/download/iphone\" r...</td>\n",
       "      <td>This is Ellie. She's secretly ferocious. 12/10...</td>\n",
       "      <td>NaN</td>\n",
       "      <td>NaN</td>\n",
       "      <td>NaN</td>\n",
       "      <td>https://twitter.com/dog_rates/status/680836378...</td>\n",
       "      <td>12</td>\n",
       "      <td>10</td>\n",
       "      <td>Ellie</td>\n",
       "      <td>None</td>\n",
       "      <td>None</td>\n",
       "      <td>pupper</td>\n",
       "      <td>None</td>\n",
       "    </tr>\n",
       "    <tr>\n",
       "      <th>1713</th>\n",
       "      <td>680473011644985345</td>\n",
       "      <td>NaN</td>\n",
       "      <td>NaN</td>\n",
       "      <td>2015-12-25 19:39:43 +0000</td>\n",
       "      <td>&lt;a href=\"http://twitter.com/download/iphone\" r...</td>\n",
       "      <td>This is Hector. He thinks he's a hammer. Silly...</td>\n",
       "      <td>NaN</td>\n",
       "      <td>NaN</td>\n",
       "      <td>NaN</td>\n",
       "      <td>https://twitter.com/dog_rates/status/680473011...</td>\n",
       "      <td>10</td>\n",
       "      <td>10</td>\n",
       "      <td>Hector</td>\n",
       "      <td>None</td>\n",
       "      <td>None</td>\n",
       "      <td>pupper</td>\n",
       "      <td>None</td>\n",
       "    </tr>\n",
       "    <tr>\n",
       "      <th>86</th>\n",
       "      <td>875747767867523072</td>\n",
       "      <td>NaN</td>\n",
       "      <td>NaN</td>\n",
       "      <td>2017-06-16 16:11:53 +0000</td>\n",
       "      <td>&lt;a href=\"http://twitter.com/download/iphone\" r...</td>\n",
       "      <td>This is Goose. He's a womanizer. Cheeky as h*c...</td>\n",
       "      <td>NaN</td>\n",
       "      <td>NaN</td>\n",
       "      <td>NaN</td>\n",
       "      <td>https://twitter.com/dog_rates/status/875747767...</td>\n",
       "      <td>13</td>\n",
       "      <td>10</td>\n",
       "      <td>Goose</td>\n",
       "      <td>None</td>\n",
       "      <td>None</td>\n",
       "      <td>None</td>\n",
       "      <td>None</td>\n",
       "    </tr>\n",
       "    <tr>\n",
       "      <th>1951</th>\n",
       "      <td>673686845050527744</td>\n",
       "      <td>NaN</td>\n",
       "      <td>NaN</td>\n",
       "      <td>2015-12-07 02:13:55 +0000</td>\n",
       "      <td>&lt;a href=\"http://twitter.com/download/iphone\" r...</td>\n",
       "      <td>This is George. He's upset that the 4th of Jul...</td>\n",
       "      <td>NaN</td>\n",
       "      <td>NaN</td>\n",
       "      <td>NaN</td>\n",
       "      <td>https://twitter.com/dog_rates/status/673686845...</td>\n",
       "      <td>11</td>\n",
       "      <td>10</td>\n",
       "      <td>George</td>\n",
       "      <td>None</td>\n",
       "      <td>None</td>\n",
       "      <td>None</td>\n",
       "      <td>None</td>\n",
       "    </tr>\n",
       "    <tr>\n",
       "      <th>2201</th>\n",
       "      <td>668645506898350081</td>\n",
       "      <td>NaN</td>\n",
       "      <td>NaN</td>\n",
       "      <td>2015-11-23 04:21:26 +0000</td>\n",
       "      <td>&lt;a href=\"http://twitter.com/download/iphone\" r...</td>\n",
       "      <td>Incredibly rare dog here. Good at bipedalism. ...</td>\n",
       "      <td>NaN</td>\n",
       "      <td>NaN</td>\n",
       "      <td>NaN</td>\n",
       "      <td>https://twitter.com/dog_rates/status/668645506...</td>\n",
       "      <td>11</td>\n",
       "      <td>10</td>\n",
       "      <td>None</td>\n",
       "      <td>None</td>\n",
       "      <td>None</td>\n",
       "      <td>None</td>\n",
       "      <td>None</td>\n",
       "    </tr>\n",
       "    <tr>\n",
       "      <th>2194</th>\n",
       "      <td>668892474547511297</td>\n",
       "      <td>NaN</td>\n",
       "      <td>NaN</td>\n",
       "      <td>2015-11-23 20:42:48 +0000</td>\n",
       "      <td>&lt;a href=\"http://twitter.com/download/iphone\" r...</td>\n",
       "      <td>This is Ruffles. He is an Albanian Shoop Da Wh...</td>\n",
       "      <td>NaN</td>\n",
       "      <td>NaN</td>\n",
       "      <td>NaN</td>\n",
       "      <td>https://twitter.com/dog_rates/status/668892474...</td>\n",
       "      <td>11</td>\n",
       "      <td>10</td>\n",
       "      <td>Ruffles</td>\n",
       "      <td>None</td>\n",
       "      <td>None</td>\n",
       "      <td>None</td>\n",
       "      <td>None</td>\n",
       "    </tr>\n",
       "    <tr>\n",
       "      <th>2109</th>\n",
       "      <td>670449342516494336</td>\n",
       "      <td>NaN</td>\n",
       "      <td>NaN</td>\n",
       "      <td>2015-11-28 03:49:14 +0000</td>\n",
       "      <td>&lt;a href=\"http://twitter.com/download/iphone\" r...</td>\n",
       "      <td>Vibrant dog here. Fabulous tail. Only 2 legs t...</td>\n",
       "      <td>NaN</td>\n",
       "      <td>NaN</td>\n",
       "      <td>NaN</td>\n",
       "      <td>https://twitter.com/dog_rates/status/670449342...</td>\n",
       "      <td>5</td>\n",
       "      <td>10</td>\n",
       "      <td>None</td>\n",
       "      <td>None</td>\n",
       "      <td>None</td>\n",
       "      <td>None</td>\n",
       "      <td>None</td>\n",
       "    </tr>\n",
       "  </tbody>\n",
       "</table>\n",
       "</div>"
      ],
      "text/plain": [
       "                tweet_id  in_reply_to_status_id  in_reply_to_user_id  \\\n",
       "1989  672828477930868736                    NaN                  NaN   \n",
       "253   844704788403113984                    NaN                  NaN   \n",
       "153   862457590147678208                    NaN                  NaN   \n",
       "1705  680836378243002368                    NaN                  NaN   \n",
       "1713  680473011644985345                    NaN                  NaN   \n",
       "86    875747767867523072                    NaN                  NaN   \n",
       "1951  673686845050527744                    NaN                  NaN   \n",
       "2201  668645506898350081                    NaN                  NaN   \n",
       "2194  668892474547511297                    NaN                  NaN   \n",
       "2109  670449342516494336                    NaN                  NaN   \n",
       "\n",
       "                      timestamp  \\\n",
       "1989  2015-12-04 17:23:04 +0000   \n",
       "253   2017-03-23 00:18:10 +0000   \n",
       "153   2017-05-11 00:01:27 +0000   \n",
       "1705  2015-12-26 19:43:36 +0000   \n",
       "1713  2015-12-25 19:39:43 +0000   \n",
       "86    2017-06-16 16:11:53 +0000   \n",
       "1951  2015-12-07 02:13:55 +0000   \n",
       "2201  2015-11-23 04:21:26 +0000   \n",
       "2194  2015-11-23 20:42:48 +0000   \n",
       "2109  2015-11-28 03:49:14 +0000   \n",
       "\n",
       "                                                 source  \\\n",
       "1989  <a href=\"http://twitter.com/download/iphone\" r...   \n",
       "253   <a href=\"http://twitter.com/download/iphone\" r...   \n",
       "153   <a href=\"http://twitter.com/download/iphone\" r...   \n",
       "1705  <a href=\"http://twitter.com/download/iphone\" r...   \n",
       "1713  <a href=\"http://twitter.com/download/iphone\" r...   \n",
       "86    <a href=\"http://twitter.com/download/iphone\" r...   \n",
       "1951  <a href=\"http://twitter.com/download/iphone\" r...   \n",
       "2201  <a href=\"http://twitter.com/download/iphone\" r...   \n",
       "2194  <a href=\"http://twitter.com/download/iphone\" r...   \n",
       "2109  <a href=\"http://twitter.com/download/iphone\" r...   \n",
       "\n",
       "                                                   text  retweeted_status_id  \\\n",
       "1989  This is Jerry. He's a Timbuk Slytherin. Eats h...                  NaN   \n",
       "253   This is Luna. It's her first time outside and ...                  NaN   \n",
       "153   This is Jersey. He likes to watch movies, but ...                  NaN   \n",
       "1705  This is Ellie. She's secretly ferocious. 12/10...                  NaN   \n",
       "1713  This is Hector. He thinks he's a hammer. Silly...                  NaN   \n",
       "86    This is Goose. He's a womanizer. Cheeky as h*c...                  NaN   \n",
       "1951  This is George. He's upset that the 4th of Jul...                  NaN   \n",
       "2201  Incredibly rare dog here. Good at bipedalism. ...                  NaN   \n",
       "2194  This is Ruffles. He is an Albanian Shoop Da Wh...                  NaN   \n",
       "2109  Vibrant dog here. Fabulous tail. Only 2 legs t...                  NaN   \n",
       "\n",
       "      retweeted_status_user_id retweeted_status_timestamp  \\\n",
       "1989                       NaN                        NaN   \n",
       "253                        NaN                        NaN   \n",
       "153                        NaN                        NaN   \n",
       "1705                       NaN                        NaN   \n",
       "1713                       NaN                        NaN   \n",
       "86                         NaN                        NaN   \n",
       "1951                       NaN                        NaN   \n",
       "2201                       NaN                        NaN   \n",
       "2194                       NaN                        NaN   \n",
       "2109                       NaN                        NaN   \n",
       "\n",
       "                                          expanded_urls  rating_numerator  \\\n",
       "1989  https://twitter.com/dog_rates/status/672828477...                 9   \n",
       "253   https://twitter.com/dog_rates/status/844704788...                13   \n",
       "153   https://twitter.com/dog_rates/status/862457590...                13   \n",
       "1705  https://twitter.com/dog_rates/status/680836378...                12   \n",
       "1713  https://twitter.com/dog_rates/status/680473011...                10   \n",
       "86    https://twitter.com/dog_rates/status/875747767...                13   \n",
       "1951  https://twitter.com/dog_rates/status/673686845...                11   \n",
       "2201  https://twitter.com/dog_rates/status/668645506...                11   \n",
       "2194  https://twitter.com/dog_rates/status/668892474...                11   \n",
       "2109  https://twitter.com/dog_rates/status/670449342...                 5   \n",
       "\n",
       "      rating_denominator     name doggo floofer  pupper puppo  \n",
       "1989                  10    Jerry  None    None    None  None  \n",
       "253                   10     Luna  None    None    None  None  \n",
       "153                   10   Jersey  None    None    None  None  \n",
       "1705                  10    Ellie  None    None  pupper  None  \n",
       "1713                  10   Hector  None    None  pupper  None  \n",
       "86                    10    Goose  None    None    None  None  \n",
       "1951                  10   George  None    None    None  None  \n",
       "2201                  10     None  None    None    None  None  \n",
       "2194                  10  Ruffles  None    None    None  None  \n",
       "2109                  10     None  None    None    None  None  "
      ]
     },
     "execution_count": 1042,
     "metadata": {},
     "output_type": "execute_result"
    }
   ],
   "source": [
    "#Assess the newly copy twiiter_archive and start cleeaning\n",
    "\n",
    "twitter_archive.sample(10)"
   ]
  },
  {
   "cell_type": "markdown",
   "id": "ea50c446",
   "metadata": {},
   "source": [
    "### 1 \n",
    "#### Define - Convert the date data type to datetime"
   ]
  },
  {
   "cell_type": "markdown",
   "id": "5be7be63",
   "metadata": {},
   "source": [
    "### Code"
   ]
  },
  {
   "cell_type": "code",
   "execution_count": 1043,
   "id": "f032eacd",
   "metadata": {},
   "outputs": [],
   "source": [
    "# Convert datatype of timestamp column to datetime\n",
    "twitter_archive_clean['timestamp'] = twitter_archive_clean['timestamp'].apply(pd.to_datetime)\n"
   ]
  },
  {
   "cell_type": "markdown",
   "id": "461b9e99",
   "metadata": {},
   "source": [
    "### Test"
   ]
  },
  {
   "cell_type": "code",
   "execution_count": 1044,
   "id": "21c3add5",
   "metadata": {},
   "outputs": [
    {
     "name": "stdout",
     "output_type": "stream",
     "text": [
      "<class 'pandas.core.frame.DataFrame'>\n",
      "RangeIndex: 2356 entries, 0 to 2355\n",
      "Data columns (total 17 columns):\n",
      " #   Column                      Non-Null Count  Dtype              \n",
      "---  ------                      --------------  -----              \n",
      " 0   tweet_id                    2356 non-null   int64              \n",
      " 1   in_reply_to_status_id       78 non-null     float64            \n",
      " 2   in_reply_to_user_id         78 non-null     float64            \n",
      " 3   timestamp                   2356 non-null   datetime64[ns, UTC]\n",
      " 4   source                      2356 non-null   object             \n",
      " 5   text                        2356 non-null   object             \n",
      " 6   retweeted_status_id         181 non-null    float64            \n",
      " 7   retweeted_status_user_id    181 non-null    float64            \n",
      " 8   retweeted_status_timestamp  181 non-null    object             \n",
      " 9   expanded_urls               2297 non-null   object             \n",
      " 10  rating_numerator            2356 non-null   int64              \n",
      " 11  rating_denominator          2356 non-null   int64              \n",
      " 12  name                        2356 non-null   object             \n",
      " 13  doggo                       2356 non-null   object             \n",
      " 14  floofer                     2356 non-null   object             \n",
      " 15  pupper                      2356 non-null   object             \n",
      " 16  puppo                       2356 non-null   object             \n",
      "dtypes: datetime64[ns, UTC](1), float64(4), int64(3), object(9)\n",
      "memory usage: 313.0+ KB\n"
     ]
    }
   ],
   "source": [
    "# Check timestamp datatype\n",
    "twitter_archive_clean.info()"
   ]
  },
  {
   "cell_type": "code",
   "execution_count": 1045,
   "id": "5e9a586f",
   "metadata": {},
   "outputs": [
    {
     "data": {
      "text/plain": [
       "2175"
      ]
     },
     "execution_count": 1045,
     "metadata": {},
     "output_type": "execute_result"
    }
   ],
   "source": [
    "#Check for null values\n",
    "sum(twitter_archive_clean.retweeted_status_id.isnull())"
   ]
  },
  {
   "cell_type": "code",
   "execution_count": 1046,
   "id": "2d3653c1",
   "metadata": {},
   "outputs": [
    {
     "data": {
      "text/plain": [
       "2278"
      ]
     },
     "execution_count": 1046,
     "metadata": {},
     "output_type": "execute_result"
    }
   ],
   "source": [
    "#Check for null values\n",
    "sum(twitter_archive_clean.in_reply_to_status_id.isnull())"
   ]
  },
  {
   "cell_type": "markdown",
   "id": "bc7f671b",
   "metadata": {},
   "source": [
    "### 2\n",
    "\n",
    "#### Define - Remove null values inreplystatus and retweet status"
   ]
  },
  {
   "cell_type": "markdown",
   "id": "5253dd5c",
   "metadata": {},
   "source": [
    "### Code"
   ]
  },
  {
   "cell_type": "code",
   "execution_count": 1047,
   "id": "4fbefcf8",
   "metadata": {},
   "outputs": [],
   "source": [
    "# Remove null values \n",
    "\n",
    "# To remove the retweets\n",
    "twitter_archive_clean = twitter_archive_clean[twitter_archive_clean.retweeted_status_id.isnull()]\n",
    "# To remove the replies\n",
    "twitter_archive_clean = twitter_archive_clean[twitter_archive_clean.in_reply_to_status_id.isnull()]"
   ]
  },
  {
   "cell_type": "markdown",
   "id": "2cedc183",
   "metadata": {},
   "source": [
    "### Test"
   ]
  },
  {
   "cell_type": "code",
   "execution_count": 1048,
   "id": "78613e2f",
   "metadata": {},
   "outputs": [
    {
     "name": "stdout",
     "output_type": "stream",
     "text": [
      "<class 'pandas.core.frame.DataFrame'>\n",
      "Int64Index: 2097 entries, 0 to 2355\n",
      "Data columns (total 17 columns):\n",
      " #   Column                      Non-Null Count  Dtype              \n",
      "---  ------                      --------------  -----              \n",
      " 0   tweet_id                    2097 non-null   int64              \n",
      " 1   in_reply_to_status_id       0 non-null      float64            \n",
      " 2   in_reply_to_user_id         0 non-null      float64            \n",
      " 3   timestamp                   2097 non-null   datetime64[ns, UTC]\n",
      " 4   source                      2097 non-null   object             \n",
      " 5   text                        2097 non-null   object             \n",
      " 6   retweeted_status_id         0 non-null      float64            \n",
      " 7   retweeted_status_user_id    0 non-null      float64            \n",
      " 8   retweeted_status_timestamp  0 non-null      object             \n",
      " 9   expanded_urls               2094 non-null   object             \n",
      " 10  rating_numerator            2097 non-null   int64              \n",
      " 11  rating_denominator          2097 non-null   int64              \n",
      " 12  name                        2097 non-null   object             \n",
      " 13  doggo                       2097 non-null   object             \n",
      " 14  floofer                     2097 non-null   object             \n",
      " 15  pupper                      2097 non-null   object             \n",
      " 16  puppo                       2097 non-null   object             \n",
      "dtypes: datetime64[ns, UTC](1), float64(4), int64(3), object(9)\n",
      "memory usage: 294.9+ KB\n"
     ]
    }
   ],
   "source": [
    "#Check if null values has been removed\n",
    "twitter_archive_clean.info()"
   ]
  },
  {
   "cell_type": "markdown",
   "id": "6dca7f1c",
   "metadata": {},
   "source": [
    "### 3\n",
    "#### Define Drop the columns that are redundant for now"
   ]
  },
  {
   "cell_type": "markdown",
   "id": "439b1959",
   "metadata": {},
   "source": [
    "### Code"
   ]
  },
  {
   "cell_type": "code",
   "execution_count": 1049,
   "id": "341f39be",
   "metadata": {},
   "outputs": [],
   "source": [
    "# Drop columns\n",
    "twitter_archive_clean.drop(['in_reply_to_status_id',\n",
    "                            'in_reply_to_user_id',\n",
    "                            'retweeted_status_id', \n",
    "                            'retweeted_status_user_id', \n",
    "                            'retweeted_status_timestamp'],  axis=1, inplace=True)"
   ]
  },
  {
   "cell_type": "markdown",
   "id": "891a7512",
   "metadata": {},
   "source": [
    "### Test"
   ]
  },
  {
   "cell_type": "code",
   "execution_count": 1050,
   "id": "6e9488dd",
   "metadata": {},
   "outputs": [
    {
     "name": "stdout",
     "output_type": "stream",
     "text": [
      "<class 'pandas.core.frame.DataFrame'>\n",
      "Int64Index: 2097 entries, 0 to 2355\n",
      "Data columns (total 12 columns):\n",
      " #   Column              Non-Null Count  Dtype              \n",
      "---  ------              --------------  -----              \n",
      " 0   tweet_id            2097 non-null   int64              \n",
      " 1   timestamp           2097 non-null   datetime64[ns, UTC]\n",
      " 2   source              2097 non-null   object             \n",
      " 3   text                2097 non-null   object             \n",
      " 4   expanded_urls       2094 non-null   object             \n",
      " 5   rating_numerator    2097 non-null   int64              \n",
      " 6   rating_denominator  2097 non-null   int64              \n",
      " 7   name                2097 non-null   object             \n",
      " 8   doggo               2097 non-null   object             \n",
      " 9   floofer             2097 non-null   object             \n",
      " 10  pupper              2097 non-null   object             \n",
      " 11  puppo               2097 non-null   object             \n",
      "dtypes: datetime64[ns, UTC](1), int64(3), object(8)\n",
      "memory usage: 213.0+ KB\n"
     ]
    }
   ],
   "source": [
    "# Check the updated dataframe\n",
    "twitter_archive_clean.info()"
   ]
  },
  {
   "cell_type": "markdown",
   "id": "088fbc83",
   "metadata": {},
   "source": [
    "### 4\n",
    "#### Define -  I will investigate the unusal cahracters and name in the name column"
   ]
  },
  {
   "cell_type": "markdown",
   "id": "61be533d",
   "metadata": {},
   "source": [
    "### Code"
   ]
  },
  {
   "cell_type": "code",
   "execution_count": 1051,
   "id": "87b6771f",
   "metadata": {},
   "outputs": [
    {
     "data": {
      "text/plain": [
       "None       603\n",
       "a           55\n",
       "Lucy        11\n",
       "Charlie     11\n",
       "Oliver      10\n",
       "Cooper      10\n",
       "Penny        9\n",
       "Tucker       9\n",
       "Sadie        8\n",
       "Winston      8\n",
       "the          8\n",
       "Lola         8\n",
       "Daisy        7\n",
       "Toby         7\n",
       "Jax          6\n",
       "Bailey       6\n",
       "Koda         6\n",
       "an           6\n",
       "Stanley      6\n",
       "Oscar        6\n",
       "Name: name, dtype: int64"
      ]
     },
     "execution_count": 1051,
     "metadata": {},
     "output_type": "execute_result"
    }
   ],
   "source": [
    "# Investigate the name column further\n",
    "twitter_archive_clean.name.value_counts().head(20)\n"
   ]
  },
  {
   "cell_type": "markdown",
   "id": "0e2fe368",
   "metadata": {},
   "source": [
    "- All the names that are does not start with capital letter are not name. Names started with capital letters will be isolated using regular expresion"
   ]
  },
  {
   "cell_type": "code",
   "execution_count": 1052,
   "id": "abe345e0",
   "metadata": {},
   "outputs": [
    {
     "data": {
      "text/plain": [
       "a               55\n",
       "the              8\n",
       "an               6\n",
       "one              4\n",
       "very             4\n",
       "quite            3\n",
       "just             3\n",
       "getting          2\n",
       "not              2\n",
       "actually         2\n",
       "old              1\n",
       "light            1\n",
       "life             1\n",
       "officially       1\n",
       "by               1\n",
       "infuriating      1\n",
       "such             1\n",
       "all              1\n",
       "unacceptable     1\n",
       "this             1\n",
       "mad              1\n",
       "his              1\n",
       "my               1\n",
       "incredibly       1\n",
       "space            1\n",
       "Name: name, dtype: int64"
      ]
     },
     "execution_count": 1052,
     "metadata": {},
     "output_type": "execute_result"
    }
   ],
   "source": [
    "# Use Regular expression to get all the names with 'a', 'an' and 'the'\n",
    "incorrect_names = twitter_archive_clean.name.str.contains('^[a-z]', regex = True)\n",
    "twitter_archive_clean[incorrect_names]['name'].value_counts()"
   ]
  },
  {
   "cell_type": "markdown",
   "id": "f90a9dfe",
   "metadata": {},
   "source": [
    "Since we already have a high number of 'None' names, we will replace the incorrect_names with None"
   ]
  },
  {
   "cell_type": "markdown",
   "id": "26c81d7e",
   "metadata": {},
   "source": [
    "### Test"
   ]
  },
  {
   "cell_type": "code",
   "execution_count": 1053,
   "id": "9704babf",
   "metadata": {},
   "outputs": [
    {
     "data": {
      "text/plain": [
       "None          707\n",
       "Lucy           11\n",
       "Charlie        11\n",
       "Oliver         10\n",
       "Cooper         10\n",
       "             ... \n",
       "Shelby          1\n",
       "Sephie          1\n",
       "Bonaparte       1\n",
       "Wishes          1\n",
       "Christoper      1\n",
       "Name: name, Length: 930, dtype: int64"
      ]
     },
     "execution_count": 1053,
     "metadata": {},
     "output_type": "execute_result"
    }
   ],
   "source": [
    "#Rename the incorrect name and check the updated name\n",
    "twitter_archive_clean.loc[incorrect_names, 'name'] = \"None\"\n",
    "twitter_archive_clean['name'].value_counts()"
   ]
  },
  {
   "cell_type": "markdown",
   "id": "7533e82c",
   "metadata": {},
   "source": [
    "### 5\n",
    "#### Define -  I will clean the denominator by dropping rows with denominators not equal 10"
   ]
  },
  {
   "cell_type": "markdown",
   "id": "daddbd5e",
   "metadata": {},
   "source": [
    "### Code"
   ]
  },
  {
   "cell_type": "code",
   "execution_count": 1054,
   "id": "1707d822",
   "metadata": {},
   "outputs": [
    {
     "data": {
      "text/plain": [
       "array([ 10,  70,   7, 150,  11, 170,  20,  50,  90,  80,  40, 110, 120,\n",
       "         2], dtype=int64)"
      ]
     },
     "execution_count": 1054,
     "metadata": {},
     "output_type": "execute_result"
    }
   ],
   "source": [
    "#List the unique values in denominator\n",
    "twitter_archive_clean.rating_denominator.unique()"
   ]
  },
  {
   "cell_type": "code",
   "execution_count": 1055,
   "id": "58594a88",
   "metadata": {},
   "outputs": [],
   "source": [
    "# Get all the denominatros that are not 10 and drop them\n",
    "denominator_clean = twitter_archive_clean[twitter_archive_clean['rating_denominator'] != 10].index\n",
    "drop_denominator = twitter_archive_clean.drop(denominator_clean, inplace = True)"
   ]
  },
  {
   "cell_type": "markdown",
   "id": "896db86b",
   "metadata": {},
   "source": [
    "### Test"
   ]
  },
  {
   "cell_type": "code",
   "execution_count": 1056,
   "id": "cd35680e",
   "metadata": {},
   "outputs": [
    {
     "data": {
      "text/plain": [
       "array([10], dtype=int64)"
      ]
     },
     "execution_count": 1056,
     "metadata": {},
     "output_type": "execute_result"
    }
   ],
   "source": [
    "#Check the denominator column\n",
    "twitter_archive_clean.rating_denominator.unique()"
   ]
  },
  {
   "cell_type": "markdown",
   "id": "cc9be753",
   "metadata": {},
   "source": [
    "### 6\n",
    "#### Define -  Tweet_id should be string datatype"
   ]
  },
  {
   "cell_type": "markdown",
   "id": "6c333877",
   "metadata": {},
   "source": [
    "### Code"
   ]
  },
  {
   "cell_type": "code",
   "execution_count": 1057,
   "id": "84b29160",
   "metadata": {},
   "outputs": [],
   "source": [
    "# Convert tweet_id to string datatype\n",
    "twitter_archive_clean['tweet_id'] = twitter_archive_clean['tweet_id'].astype(str)\n",
    "image_pred_clean['tweet_id'] = image_pred_clean['tweet_id'].astype(str)\n",
    "retweet_favorite_clean['tweet_id'] = retweet_favorite_clean['tweet_id'].astype(str)\n"
   ]
  },
  {
   "cell_type": "markdown",
   "id": "f330c451",
   "metadata": {},
   "source": [
    "### Test"
   ]
  },
  {
   "cell_type": "code",
   "execution_count": 1058,
   "id": "17d6b782",
   "metadata": {},
   "outputs": [
    {
     "name": "stdout",
     "output_type": "stream",
     "text": [
      "<class 'pandas.core.frame.DataFrame'>\n",
      "Int64Index: 2080 entries, 0 to 2355\n",
      "Data columns (total 12 columns):\n",
      " #   Column              Non-Null Count  Dtype              \n",
      "---  ------              --------------  -----              \n",
      " 0   tweet_id            2080 non-null   object             \n",
      " 1   timestamp           2080 non-null   datetime64[ns, UTC]\n",
      " 2   source              2080 non-null   object             \n",
      " 3   text                2080 non-null   object             \n",
      " 4   expanded_urls       2077 non-null   object             \n",
      " 5   rating_numerator    2080 non-null   int64              \n",
      " 6   rating_denominator  2080 non-null   int64              \n",
      " 7   name                2080 non-null   object             \n",
      " 8   doggo               2080 non-null   object             \n",
      " 9   floofer             2080 non-null   object             \n",
      " 10  pupper              2080 non-null   object             \n",
      " 11  puppo               2080 non-null   object             \n",
      "dtypes: datetime64[ns, UTC](1), int64(2), object(9)\n",
      "memory usage: 211.2+ KB\n"
     ]
    }
   ],
   "source": [
    "#Check the dataframe update info\n",
    "twitter_archive_clean.info()"
   ]
  },
  {
   "cell_type": "code",
   "execution_count": 1059,
   "id": "16433762",
   "metadata": {},
   "outputs": [
    {
     "data": {
      "text/plain": [
       "tweet_id              0\n",
       "timestamp             0\n",
       "source                0\n",
       "text                  0\n",
       "expanded_urls         3\n",
       "rating_numerator      0\n",
       "rating_denominator    0\n",
       "name                  0\n",
       "doggo                 0\n",
       "floofer               0\n",
       "pupper                0\n",
       "puppo                 0\n",
       "dtype: int64"
      ]
     },
     "execution_count": 1059,
     "metadata": {},
     "output_type": "execute_result"
    }
   ],
   "source": [
    "#Check again for null values in twitter archive\n",
    "twitter_archive_clean.isnull().sum()"
   ]
  },
  {
   "cell_type": "markdown",
   "id": "aaab766b",
   "metadata": {},
   "source": [
    "### 7 \n",
    "\n",
    "#### Define - The expanded_url column cannot be filled with mean because it is not numbers but string (texts). I could drop the null values and keep the rest of the data but since it is not reall important to my analysis, I will drop the whole column."
   ]
  },
  {
   "cell_type": "markdown",
   "id": "bf4cea67",
   "metadata": {},
   "source": [
    "### Code"
   ]
  },
  {
   "cell_type": "code",
   "execution_count": 1060,
   "id": "8b264a42",
   "metadata": {},
   "outputs": [],
   "source": [
    "#Drop expanded url\n",
    "\n",
    "twitter_archive_clean.drop(['expanded_urls'], axis=1, inplace=True)"
   ]
  },
  {
   "cell_type": "markdown",
   "id": "e6341be0",
   "metadata": {},
   "source": [
    "### Test"
   ]
  },
  {
   "cell_type": "code",
   "execution_count": 1061,
   "id": "811e45ae",
   "metadata": {},
   "outputs": [
    {
     "name": "stdout",
     "output_type": "stream",
     "text": [
      "<class 'pandas.core.frame.DataFrame'>\n",
      "Int64Index: 2080 entries, 0 to 2355\n",
      "Data columns (total 11 columns):\n",
      " #   Column              Non-Null Count  Dtype              \n",
      "---  ------              --------------  -----              \n",
      " 0   tweet_id            2080 non-null   object             \n",
      " 1   timestamp           2080 non-null   datetime64[ns, UTC]\n",
      " 2   source              2080 non-null   object             \n",
      " 3   text                2080 non-null   object             \n",
      " 4   rating_numerator    2080 non-null   int64              \n",
      " 5   rating_denominator  2080 non-null   int64              \n",
      " 6   name                2080 non-null   object             \n",
      " 7   doggo               2080 non-null   object             \n",
      " 8   floofer             2080 non-null   object             \n",
      " 9   pupper              2080 non-null   object             \n",
      " 10  puppo               2080 non-null   object             \n",
      "dtypes: datetime64[ns, UTC](1), int64(2), object(8)\n",
      "memory usage: 195.0+ KB\n"
     ]
    }
   ],
   "source": [
    "twitter_archive_clean.info()"
   ]
  },
  {
   "cell_type": "code",
   "execution_count": 1062,
   "id": "6f30b982",
   "metadata": {},
   "outputs": [
    {
     "name": "stdout",
     "output_type": "stream",
     "text": [
      "<class 'pandas.core.frame.DataFrame'>\n",
      "RangeIndex: 2075 entries, 0 to 2074\n",
      "Data columns (total 12 columns):\n",
      " #   Column    Non-Null Count  Dtype  \n",
      "---  ------    --------------  -----  \n",
      " 0   tweet_id  2075 non-null   object \n",
      " 1   jpg_url   2075 non-null   object \n",
      " 2   img_num   2075 non-null   int64  \n",
      " 3   p1        2075 non-null   object \n",
      " 4   p1_conf   2075 non-null   float64\n",
      " 5   p1_dog    2075 non-null   bool   \n",
      " 6   p2        2075 non-null   object \n",
      " 7   p2_conf   2075 non-null   float64\n",
      " 8   p2_dog    2075 non-null   bool   \n",
      " 9   p3        2075 non-null   object \n",
      " 10  p3_conf   2075 non-null   float64\n",
      " 11  p3_dog    2075 non-null   bool   \n",
      "dtypes: bool(3), float64(3), int64(1), object(5)\n",
      "memory usage: 152.1+ KB\n"
     ]
    }
   ],
   "source": [
    "image_pred_clean.info()"
   ]
  },
  {
   "cell_type": "markdown",
   "id": "9fadc259",
   "metadata": {},
   "source": [
    "### 8\n",
    "#### Define -  I will select the prediction with the highest confidence rating\n",
    "\n",
    "\n"
   ]
  },
  {
   "cell_type": "markdown",
   "id": "09be7e8b",
   "metadata": {},
   "source": [
    "### Code"
   ]
  },
  {
   "cell_type": "code",
   "execution_count": 1063,
   "id": "fc8c4862",
   "metadata": {},
   "outputs": [
    {
     "data": {
      "text/plain": [
       "0       Succesful\n",
       "1       Succesful\n",
       "2       Succesful\n",
       "3       Succesful\n",
       "4       Succesful\n",
       "          ...    \n",
       "2070    Succesful\n",
       "2071    Succesful\n",
       "2072    Succesful\n",
       "2073    Succesful\n",
       "2074    Succesful\n",
       "Length: 2075, dtype: object"
      ]
     },
     "execution_count": 1063,
     "metadata": {},
     "output_type": "execute_result"
    }
   ],
   "source": [
    "# Merge the image prediction with confidence level\n",
    "#Create empty lists to hold the dog breed and the confidence rating\n",
    "\n",
    "breed_df = []\n",
    "confidence_df = []\n",
    "\n",
    "def breed_confidence(row):\n",
    "    if row.p1_dog == True:\n",
    "        breed.append(row.p1)\n",
    "        confidence.append(row.p1_conf)\n",
    "\n",
    "# Write a function that performs a logical operation on the three prediction columns and append the result to the empty list\n",
    "def breed_confidence(check):\n",
    "    if check.p1_dog:\n",
    "        breed_df.append(check.p1)\n",
    "        confidence_df.append(check.p1_conf)\n",
    "    elif check.p2_dog:\n",
    "        breed_df.append(check.p2)\n",
    "        confidence_df.append(check.p2_conf)\n",
    "    elif check.p3_dog:\n",
    "        breed_df.append(check.p3)\n",
    "        confidence_df.append(check.p3_conf)\n",
    "    else:\n",
    "        breed_df.append('No Prediction')\n",
    "        confidence_df.append(0)\n",
    "    return \"Succesful\"\n",
    "# Verify the operation\n",
    "image_pred_clean.apply(breed_confidence, axis=1)"
   ]
  },
  {
   "cell_type": "code",
   "execution_count": 1064,
   "id": "1de47372",
   "metadata": {},
   "outputs": [],
   "source": [
    "# Add the newly populated  list to image prediction dataframe\n",
    "image_pred_clean['dog_breed'] = breed_df\n",
    "image_pred_clean['confidence_rating'] = confidence_df"
   ]
  },
  {
   "cell_type": "code",
   "execution_count": 1065,
   "id": "8190d7ad",
   "metadata": {},
   "outputs": [
    {
     "name": "stdout",
     "output_type": "stream",
     "text": [
      "<class 'pandas.core.frame.DataFrame'>\n",
      "RangeIndex: 2075 entries, 0 to 2074\n",
      "Data columns (total 14 columns):\n",
      " #   Column             Non-Null Count  Dtype  \n",
      "---  ------             --------------  -----  \n",
      " 0   tweet_id           2075 non-null   object \n",
      " 1   jpg_url            2075 non-null   object \n",
      " 2   img_num            2075 non-null   int64  \n",
      " 3   p1                 2075 non-null   object \n",
      " 4   p1_conf            2075 non-null   float64\n",
      " 5   p1_dog             2075 non-null   bool   \n",
      " 6   p2                 2075 non-null   object \n",
      " 7   p2_conf            2075 non-null   float64\n",
      " 8   p2_dog             2075 non-null   bool   \n",
      " 9   p3                 2075 non-null   object \n",
      " 10  p3_conf            2075 non-null   float64\n",
      " 11  p3_dog             2075 non-null   bool   \n",
      " 12  dog_breed          2075 non-null   object \n",
      " 13  confidence_rating  2075 non-null   float64\n",
      "dtypes: bool(3), float64(4), int64(1), object(6)\n",
      "memory usage: 184.5+ KB\n"
     ]
    }
   ],
   "source": [
    "#Check the dataframe for new additions\n",
    "image_pred_clean.info()"
   ]
  },
  {
   "cell_type": "code",
   "execution_count": 1066,
   "id": "4c34556d",
   "metadata": {},
   "outputs": [],
   "source": [
    "# Drop the redundant columns\n",
    "drop_pred = ['p1', 'p2', 'p1_conf', 'p2_conf', 'p3', 'p3_conf']\n",
    "\n",
    "image_pred_clean.drop(columns = drop_pred, inplace=True)"
   ]
  },
  {
   "cell_type": "code",
   "execution_count": 1067,
   "id": "eb56d125",
   "metadata": {},
   "outputs": [],
   "source": [
    "# Drop the rest of redundant columns\n",
    "drop_pred_2 = ['p1_dog', 'p2_dog', 'p3_dog', 'img_num']\n",
    "\n",
    "image_pred_clean.drop(columns = drop_pred_2, inplace=True)"
   ]
  },
  {
   "cell_type": "markdown",
   "id": "3a302f14",
   "metadata": {},
   "source": [
    "### Test"
   ]
  },
  {
   "cell_type": "code",
   "execution_count": 1068,
   "id": "195faca8",
   "metadata": {},
   "outputs": [
    {
     "name": "stdout",
     "output_type": "stream",
     "text": [
      "<class 'pandas.core.frame.DataFrame'>\n",
      "RangeIndex: 2075 entries, 0 to 2074\n",
      "Data columns (total 4 columns):\n",
      " #   Column             Non-Null Count  Dtype  \n",
      "---  ------             --------------  -----  \n",
      " 0   tweet_id           2075 non-null   object \n",
      " 1   jpg_url            2075 non-null   object \n",
      " 2   dog_breed          2075 non-null   object \n",
      " 3   confidence_rating  2075 non-null   float64\n",
      "dtypes: float64(1), object(3)\n",
      "memory usage: 65.0+ KB\n"
     ]
    }
   ],
   "source": [
    "image_pred_clean.info()"
   ]
  },
  {
   "cell_type": "markdown",
   "id": "f6efa836",
   "metadata": {},
   "source": [
    "### 9\n",
    "#### Define - Crash the dog stages name into one column instead of three"
   ]
  },
  {
   "cell_type": "markdown",
   "id": "52545ffb",
   "metadata": {},
   "source": [
    "### Code"
   ]
  },
  {
   "cell_type": "markdown",
   "id": "0e91ef77",
   "metadata": {},
   "source": [
    "-  To combine the dog stage, it is better to create another column that holds the dog_stage that are unkonwn. This will make it easier to clean after the melt method has been used on the columns"
   ]
  },
  {
   "cell_type": "code",
   "execution_count": 1069,
   "id": "69a46063",
   "metadata": {},
   "outputs": [],
   "source": [
    "# Create an empty column that holds unknown dog_stage\n",
    "def extra_column(i):\n",
    "    if i ['doggo'] == 'None' and i ['floofer'] == 'None' and i ['pupper'] == 'None' and i ['puppo'] == 'None':\n",
    "        new_column = 'unknown'\n",
    "    else:\n",
    "        new_column ='None'\n",
    "    return new_column\n",
    "\n",
    "twitter_archive_clean['unknown'] = twitter_archive_clean.apply(extra_column, axis=1)\n"
   ]
  },
  {
   "cell_type": "markdown",
   "id": "124300c6",
   "metadata": {},
   "source": [
    "### Test"
   ]
  },
  {
   "cell_type": "code",
   "execution_count": 1070,
   "id": "1704897b",
   "metadata": {},
   "outputs": [
    {
     "name": "stdout",
     "output_type": "stream",
     "text": [
      "<class 'pandas.core.frame.DataFrame'>\n",
      "Int64Index: 2080 entries, 0 to 2355\n",
      "Data columns (total 12 columns):\n",
      " #   Column              Non-Null Count  Dtype              \n",
      "---  ------              --------------  -----              \n",
      " 0   tweet_id            2080 non-null   object             \n",
      " 1   timestamp           2080 non-null   datetime64[ns, UTC]\n",
      " 2   source              2080 non-null   object             \n",
      " 3   text                2080 non-null   object             \n",
      " 4   rating_numerator    2080 non-null   int64              \n",
      " 5   rating_denominator  2080 non-null   int64              \n",
      " 6   name                2080 non-null   object             \n",
      " 7   doggo               2080 non-null   object             \n",
      " 8   floofer             2080 non-null   object             \n",
      " 9   pupper              2080 non-null   object             \n",
      " 10  puppo               2080 non-null   object             \n",
      " 11  unknown             2080 non-null   object             \n",
      "dtypes: datetime64[ns, UTC](1), int64(2), object(9)\n",
      "memory usage: 211.2+ KB\n"
     ]
    }
   ],
   "source": [
    "\n",
    "twitter_archive_clean.info()"
   ]
  },
  {
   "cell_type": "markdown",
   "id": "441e8d9e",
   "metadata": {},
   "source": [
    "### 10 \n",
    "#### Define - The duplicate stage_texts created from melt method should be clean first, then the column should be dropped"
   ]
  },
  {
   "cell_type": "code",
   "execution_count": 1071,
   "id": "0278a6d1",
   "metadata": {},
   "outputs": [
    {
     "name": "stdout",
     "output_type": "stream",
     "text": [
      "<class 'pandas.core.frame.DataFrame'>\n",
      "RangeIndex: 10400 entries, 0 to 10399\n",
      "Data columns (total 8 columns):\n",
      " #   Column              Non-Null Count  Dtype              \n",
      "---  ------              --------------  -----              \n",
      " 0   tweet_id            10400 non-null  object             \n",
      " 1   timestamp           10400 non-null  datetime64[ns, UTC]\n",
      " 2   name                10400 non-null  object             \n",
      " 3   source              10400 non-null  object             \n",
      " 4   rating_numerator    10400 non-null  int64              \n",
      " 5   rating_denominator  10400 non-null  int64              \n",
      " 6   dog_stage           10400 non-null  object             \n",
      " 7   stage_text          10400 non-null  object             \n",
      "dtypes: datetime64[ns, UTC](1), int64(2), object(5)\n",
      "memory usage: 650.1+ KB\n"
     ]
    }
   ],
   "source": [
    "twitter_archive_clean = pd.melt(\n",
    "    twitter_archive_clean,\n",
    "    id_vars =['tweet_id', 'timestamp', 'name', 'source', 'rating_numerator','rating_denominator'],\n",
    "    value_vars=['doggo', 'floofer', 'pupper', 'puppo', 'unknown'],\n",
    "    var_name='dog_stage',\n",
    "    value_name='stage_text'\n",
    ")\n",
    "\n",
    "twitter_archive_clean.info()"
   ]
  },
  {
   "cell_type": "code",
   "execution_count": 1072,
   "id": "400373c6",
   "metadata": {},
   "outputs": [],
   "source": [
    "# filter the data with stage_text that is equal to dog_stage and drop the stage_text column\n",
    "twitter_archive_clean = twitter_archive_clean[twitter_archive_clean['stage_text']!= 'None']\n",
    "twitter_archive_clean = twitter_archive_clean.drop('stage_text', axis=1)\n"
   ]
  },
  {
   "cell_type": "code",
   "execution_count": 1073,
   "id": "9ad99c4c",
   "metadata": {},
   "outputs": [
    {
     "name": "stdout",
     "output_type": "stream",
     "text": [
      "<class 'pandas.core.frame.DataFrame'>\n",
      "Int64Index: 2091 entries, 9 to 10399\n",
      "Data columns (total 7 columns):\n",
      " #   Column              Non-Null Count  Dtype              \n",
      "---  ------              --------------  -----              \n",
      " 0   tweet_id            2091 non-null   object             \n",
      " 1   timestamp           2091 non-null   datetime64[ns, UTC]\n",
      " 2   name                2091 non-null   object             \n",
      " 3   source              2091 non-null   object             \n",
      " 4   rating_numerator    2091 non-null   int64              \n",
      " 5   rating_denominator  2091 non-null   int64              \n",
      " 6   dog_stage           2091 non-null   object             \n",
      "dtypes: datetime64[ns, UTC](1), int64(2), object(4)\n",
      "memory usage: 130.7+ KB\n"
     ]
    }
   ],
   "source": [
    "twitter_archive_clean.info()"
   ]
  },
  {
   "cell_type": "code",
   "execution_count": 1074,
   "id": "f9d46093",
   "metadata": {},
   "outputs": [
    {
     "name": "stdout",
     "output_type": "stream",
     "text": [
      "<class 'pandas.core.frame.DataFrame'>\n",
      "RangeIndex: 2075 entries, 0 to 2074\n",
      "Data columns (total 4 columns):\n",
      " #   Column             Non-Null Count  Dtype  \n",
      "---  ------             --------------  -----  \n",
      " 0   tweet_id           2075 non-null   object \n",
      " 1   jpg_url            2075 non-null   object \n",
      " 2   dog_breed          2075 non-null   object \n",
      " 3   confidence_rating  2075 non-null   float64\n",
      "dtypes: float64(1), object(3)\n",
      "memory usage: 65.0+ KB\n"
     ]
    }
   ],
   "source": [
    "image_pred_clean.info()"
   ]
  },
  {
   "cell_type": "code",
   "execution_count": 1075,
   "id": "afdcd547",
   "metadata": {},
   "outputs": [
    {
     "name": "stdout",
     "output_type": "stream",
     "text": [
      "<class 'pandas.core.frame.DataFrame'>\n",
      "RangeIndex: 2354 entries, 0 to 2353\n",
      "Data columns (total 3 columns):\n",
      " #   Column      Non-Null Count  Dtype \n",
      "---  ------      --------------  ----- \n",
      " 0   tweet_id    2354 non-null   object\n",
      " 1   retweets    2354 non-null   int64 \n",
      " 2   favourites  2354 non-null   int64 \n",
      "dtypes: int64(2), object(1)\n",
      "memory usage: 55.3+ KB\n"
     ]
    }
   ],
   "source": [
    "retweet_favorite_clean.info()"
   ]
  },
  {
   "cell_type": "markdown",
   "id": "fa515052",
   "metadata": {},
   "source": [
    "### 11\n",
    "#### Define - Merge the 3 dataframes for better visualisation"
   ]
  },
  {
   "cell_type": "markdown",
   "id": "1f07d1f9",
   "metadata": {},
   "source": [
    "### Code"
   ]
  },
  {
   "cell_type": "code",
   "execution_count": 1076,
   "id": "6cc91024",
   "metadata": {},
   "outputs": [],
   "source": [
    "#compile the list of dataframes you want to merge\n",
    "df = [twitter_archive_clean, image_pred_clean, retweet_favorite_clean]\n",
    "\n",
    "#Merge the df\n",
    "df_merge = reduce(lambda  left,right: pd.merge(left,right,on=['tweet_id'], how='outer'), df)"
   ]
  },
  {
   "cell_type": "code",
   "execution_count": 1077,
   "id": "70b0dfd4",
   "metadata": {},
   "outputs": [],
   "source": [
    "# writing the merged dfs to csv the csv file if desired\n",
    "\n",
    "pd.DataFrame.to_csv(df_merge, 'twitter_archive_master.csv', sep=',', index=False)"
   ]
  },
  {
   "cell_type": "markdown",
   "id": "39b4995c",
   "metadata": {},
   "source": [
    "### Test"
   ]
  },
  {
   "cell_type": "code",
   "execution_count": 1078,
   "id": "e1ab3c2f",
   "metadata": {},
   "outputs": [
    {
     "name": "stdout",
     "output_type": "stream",
     "text": [
      "<class 'pandas.core.frame.DataFrame'>\n",
      "RangeIndex: 2367 entries, 0 to 2366\n",
      "Data columns (total 12 columns):\n",
      " #   Column              Non-Null Count  Dtype  \n",
      "---  ------              --------------  -----  \n",
      " 0   tweet_id            2367 non-null   int64  \n",
      " 1   timestamp           2091 non-null   object \n",
      " 2   name                2091 non-null   object \n",
      " 3   source              2091 non-null   object \n",
      " 4   rating_numerator    2091 non-null   float64\n",
      " 5   rating_denominator  2091 non-null   float64\n",
      " 6   dog_stage           2091 non-null   object \n",
      " 7   jpg_url             2085 non-null   object \n",
      " 8   dog_breed           2085 non-null   object \n",
      " 9   confidence_rating   2085 non-null   float64\n",
      " 10  retweets            2365 non-null   float64\n",
      " 11  favourites          2365 non-null   float64\n",
      "dtypes: float64(5), int64(1), object(6)\n",
      "memory usage: 222.0+ KB\n"
     ]
    }
   ],
   "source": [
    "df = pd.read_csv('twitter_archive_master.csv')\n",
    "df.info()"
   ]
  },
  {
   "cell_type": "markdown",
   "id": "0b3f2f29",
   "metadata": {},
   "source": [
    "# Visualizing"
   ]
  },
  {
   "cell_type": "markdown",
   "id": "ad6083ab",
   "metadata": {},
   "source": [
    "Q 1 - What are the top 10 popular breed of dogs according to predicition ?"
   ]
  },
  {
   "cell_type": "code",
   "execution_count": 1079,
   "id": "1493e4e5",
   "metadata": {},
   "outputs": [
    {
     "data": {
      "text/html": [
       "<div>\n",
       "<style scoped>\n",
       "    .dataframe tbody tr th:only-of-type {\n",
       "        vertical-align: middle;\n",
       "    }\n",
       "\n",
       "    .dataframe tbody tr th {\n",
       "        vertical-align: top;\n",
       "    }\n",
       "\n",
       "    .dataframe thead th {\n",
       "        text-align: right;\n",
       "    }\n",
       "</style>\n",
       "<table border=\"1\" class=\"dataframe\">\n",
       "  <thead>\n",
       "    <tr style=\"text-align: right;\">\n",
       "      <th></th>\n",
       "      <th>tweet_id</th>\n",
       "      <th>timestamp</th>\n",
       "      <th>name</th>\n",
       "      <th>source</th>\n",
       "      <th>rating_numerator</th>\n",
       "      <th>rating_denominator</th>\n",
       "      <th>dog_stage</th>\n",
       "      <th>jpg_url</th>\n",
       "      <th>dog_breed</th>\n",
       "      <th>confidence_rating</th>\n",
       "      <th>retweets</th>\n",
       "      <th>favourites</th>\n",
       "    </tr>\n",
       "  </thead>\n",
       "  <tbody>\n",
       "    <tr>\n",
       "      <th>2181</th>\n",
       "      <td>818588835076603904</td>\n",
       "      <td>NaN</td>\n",
       "      <td>NaN</td>\n",
       "      <td>NaN</td>\n",
       "      <td>NaN</td>\n",
       "      <td>NaN</td>\n",
       "      <td>NaN</td>\n",
       "      <td>https://pbs.twimg.com/media/Crwxb5yWgAAX5P_.jpg</td>\n",
       "      <td>Norwegian_elkhound</td>\n",
       "      <td>0.372202</td>\n",
       "      <td>7126.0</td>\n",
       "      <td>0.0</td>\n",
       "    </tr>\n",
       "  </tbody>\n",
       "</table>\n",
       "</div>"
      ],
      "text/plain": [
       "                tweet_id timestamp name source  rating_numerator  \\\n",
       "2181  818588835076603904       NaN  NaN    NaN               NaN   \n",
       "\n",
       "      rating_denominator dog_stage  \\\n",
       "2181                 NaN       NaN   \n",
       "\n",
       "                                              jpg_url           dog_breed  \\\n",
       "2181  https://pbs.twimg.com/media/Crwxb5yWgAAX5P_.jpg  Norwegian_elkhound   \n",
       "\n",
       "      confidence_rating  retweets  favourites  \n",
       "2181           0.372202    7126.0         0.0  "
      ]
     },
     "execution_count": 1079,
     "metadata": {},
     "output_type": "execute_result"
    }
   ],
   "source": [
    "# Select all the breed of dogs that was predicted by the algorithm\n",
    "df_breeds = df.query(\"dog_breed != 'No Prediction'\")\n",
    "df_breeds.sample()"
   ]
  },
  {
   "cell_type": "code",
   "execution_count": 1080,
   "id": "16a821c7",
   "metadata": {
    "scrolled": true
   },
   "outputs": [
    {
     "data": {
      "text/plain": [
       "golden_retriever      177\n",
       "Labrador_retriever    113\n",
       "Pembroke               96\n",
       "Chihuahua              95\n",
       "pug                    65\n",
       "toy_poodle             52\n",
       "chow                   51\n",
       "Samoyed                46\n",
       "Pomeranian             42\n",
       "malamute               34\n",
       "Name: dog_breed, dtype: int64"
      ]
     },
     "execution_count": 1080,
     "metadata": {},
     "output_type": "execute_result"
    }
   ],
   "source": [
    "#Select top 10 predicted breed\n",
    "popular_breed = df_breeds.dog_breed.value_counts().nlargest(10)\n",
    "popular_breed"
   ]
  },
  {
   "cell_type": "code",
   "execution_count": 1081,
   "id": "799bdc70",
   "metadata": {},
   "outputs": [
    {
     "data": {
      "text/plain": [
       "Text(0, 0.5, 'Breed Count')"
      ]
     },
     "execution_count": 1081,
     "metadata": {},
     "output_type": "execute_result"
    },
    {
     "data": {
      "image/png": "[encoded data removed]",
      "text/plain": [
       "<Figure size 432x288 with 1 Axes>"
      ]
     },
     "metadata": {
      "needs_background": "light"
     },
     "output_type": "display_data"
    }
   ],
   "source": [
    "popular_breed.plot(kind='bar')\n",
    "plt.title('Top 10 Popular Breed of dogs', fontsize=20)\n",
    "plt.xlabel(\"Dog Breed\", fontsize=14)\n",
    "plt.ylabel(\"Breed Count\", fontsize=14)"
   ]
  },
  {
   "cell_type": "markdown",
   "id": "33343266",
   "metadata": {},
   "source": [
    "- As shown in the bar chart, golden retriever is the most popular breed of dog that is predicted by the algorithm"
   ]
  },
  {
   "cell_type": "markdown",
   "id": "1abeb660",
   "metadata": {},
   "source": [
    "- 2 - What are the popular stage of the dogs ?"
   ]
  },
  {
   "cell_type": "code",
   "execution_count": 1082,
   "id": "f28fc213",
   "metadata": {},
   "outputs": [],
   "source": [
    "# Select all the known stage names\n",
    "df_stage = df.query(\"dog_stage != 'unknown'\")"
   ]
  },
  {
   "cell_type": "code",
   "execution_count": 1083,
   "id": "a31c6934",
   "metadata": {},
   "outputs": [
    {
     "data": {
      "text/plain": [
       "pupper     230\n",
       "doggo       83\n",
       "puppo       24\n",
       "floofer     10\n",
       "Name: dog_stage, dtype: int64"
      ]
     },
     "execution_count": 1083,
     "metadata": {},
     "output_type": "execute_result"
    }
   ],
   "source": [
    "#Select the popular stage of dog\n",
    "popular_stage = df_stage.dog_stage.value_counts()\n",
    "popular_stage"
   ]
  },
  {
   "cell_type": "code",
   "execution_count": 1084,
   "id": "f7f6110a",
   "metadata": {},
   "outputs": [
    {
     "data": {
      "text/plain": [
       "Text(0, 0.5, 'Stage Count')"
      ]
     },
     "execution_count": 1084,
     "metadata": {},
     "output_type": "execute_result"
    },
    {
     "data": {
      "image/png": "[encoded data removed]",
      "text/plain": [
       "<Figure size 432x288 with 1 Axes>"
      ]
     },
     "metadata": {
      "needs_background": "light"
     },
     "output_type": "display_data"
    }
   ],
   "source": [
    "popular_stage.plot(kind='bar')\n",
    "plt.title('Stage of Dogs', fontsize=20)\n",
    "plt.xlabel(\"Dog Stage\", fontsize=14)\n",
    "plt.ylabel(\"Stage Count\", fontsize=14)"
   ]
  },
  {
   "cell_type": "markdown",
   "id": "7de7d9c9",
   "metadata": {},
   "source": [
    "- As shown in the bar chart, pupper is the most popular stage of the dogs"
   ]
  },
  {
   "cell_type": "markdown",
   "id": "9b4238bd",
   "metadata": {},
   "source": [
    " 3 - Relationship between confidence rating, retweet counts and favorite counts"
   ]
  },
  {
   "cell_type": "code",
   "execution_count": 1085,
   "id": "e83b059d",
   "metadata": {},
   "outputs": [
    {
     "data": {
      "text/html": [
       "<div>\n",
       "<style scoped>\n",
       "    .dataframe tbody tr th:only-of-type {\n",
       "        vertical-align: middle;\n",
       "    }\n",
       "\n",
       "    .dataframe tbody tr th {\n",
       "        vertical-align: top;\n",
       "    }\n",
       "\n",
       "    .dataframe thead th {\n",
       "        text-align: right;\n",
       "    }\n",
       "</style>\n",
       "<table border=\"1\" class=\"dataframe\">\n",
       "  <thead>\n",
       "    <tr style=\"text-align: right;\">\n",
       "      <th></th>\n",
       "      <th>confidence_rating</th>\n",
       "      <th>retweets</th>\n",
       "      <th>favourites</th>\n",
       "    </tr>\n",
       "  </thead>\n",
       "  <tbody>\n",
       "    <tr>\n",
       "      <th>confidence_rating</th>\n",
       "      <td>1.000000</td>\n",
       "      <td>0.033171</td>\n",
       "      <td>0.087948</td>\n",
       "    </tr>\n",
       "    <tr>\n",
       "      <th>retweets</th>\n",
       "      <td>0.033171</td>\n",
       "      <td>1.000000</td>\n",
       "      <td>0.705081</td>\n",
       "    </tr>\n",
       "    <tr>\n",
       "      <th>favourites</th>\n",
       "      <td>0.087948</td>\n",
       "      <td>0.705081</td>\n",
       "      <td>1.000000</td>\n",
       "    </tr>\n",
       "  </tbody>\n",
       "</table>\n",
       "</div>"
      ],
      "text/plain": [
       "                   confidence_rating  retweets  favourites\n",
       "confidence_rating           1.000000  0.033171    0.087948\n",
       "retweets                    0.033171  1.000000    0.705081\n",
       "favourites                  0.087948  0.705081    1.000000"
      ]
     },
     "execution_count": 1085,
     "metadata": {},
     "output_type": "execute_result"
    }
   ],
   "source": [
    "\n",
    "rating_retweet_favourites = df[['confidence_rating','retweets','favourites']].corr()\n",
    "rating_retweet_favourites"
   ]
  },
  {
   "cell_type": "code",
   "execution_count": 1086,
   "id": "440b13d6",
   "metadata": {
    "scrolled": true
   },
   "outputs": [
    {
     "data": {
      "image/png": "[encoded data removed]",
      "text/plain": [
       "<Figure size 432x288 with 2 Axes>"
      ]
     },
     "metadata": {
      "needs_background": "light"
     },
     "output_type": "display_data"
    }
   ],
   "source": [
    "# Correlation\n",
    "labels = ['Confidence','Retweets','Favourites']\n",
    "sns.heatmap(rating_retweet_favourites, xticklabels=labels, yticklabels=labels, annot=True, cmap='RdBu', vmin=-1, vmax=1);\n",
    "plt.title('Correlation between Confidence Rating, Retweet and Favorite', fontsize=20, pad=17);"
   ]
  },
  {
   "cell_type": "markdown",
   "id": "dba8d4cb",
   "metadata": {},
   "source": [
    "- There is high correlation between retweet count and favourite count but little to no correlation with confidence rating"
   ]
  },
  {
   "cell_type": "markdown",
   "id": "6f67a516",
   "metadata": {},
   "source": [
    "### Insights\n",
    "- 1 - Golden retriever is the most popular breed of dog that is predicted by the algorithm\n",
    "- 2 - Pupper is the most popular stage of the dogs\n",
    "- 3 - There is high correlation between retweet count and favourite count but little to no correlation with confidence rating"
   ]
  },
  {
   "cell_type": "markdown",
   "id": "c427753b",
   "metadata": {},
   "source": [
    "### Conclusion \n",
    "In this project, WeRateDogs twitter user data was wrangled. The data was collected from several sources. The data was cleaned after being checked for quality and tideness. After cleaning, all the datasete were merged into a single dataframe. The data was analysed, and visualizations were created."
   ]
  },
  {
   "cell_type": "markdown",
   "id": "d4285081",
   "metadata": {},
   "source": [
    "### References\n",
    "\n",
    "https://stackoverflow.com/questions/27900451/convert-tweepy-status-object-into-json\n",
    "\n",
    "https://www.youtube.com/watch?v=FmbEhKSpR7M&t=0s&ab_channel=AISpectrum\n",
    "\n",
    "https://www.youtube.com/watch?v=oY62o-tBHF4&ab_channel=codebasics\n",
    "\n",
    "https://towardsdatascience.com/seaborn-heatmap-for-visualising-data-correlations-66cbef09c1fe\n",
    "\n",
    "https://stackoverflow.com/questions/44327999/how-to-merge-multiple-dataframes\n",
    "\n"
   ]
  }
 ],
 "metadata": {
  "kernelspec": {
   "display_name": "Python 3 (ipykernel)",
   "language": "python",
   "name": "python3"
  },
  "language_info": {
   "codemirror_mode": {
    "name": "ipython",
    "version": 3
   },
   "file_extension": ".py",
   "mimetype": "text/x-python",
   "name": "python",
   "nbconvert_exporter": "python",
   "pygments_lexer": "ipython3",
   "version": "3.9.12"
  }
 },
 "nbformat": 4,
 "nbformat_minor": 5
}
